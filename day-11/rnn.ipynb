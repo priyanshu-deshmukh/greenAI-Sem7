{
 "cells": [
  {
   "cell_type": "code",
   "execution_count": 3,
   "id": "60cb248e",
   "metadata": {},
   "outputs": [],
   "source": [
    "import numpy as np\n",
    "import tensorflow as tf\n",
    "from tensorflow.keras.models import Sequential\n",
    "from tensorflow.keras.layers import SimpleRNN, Dense\n",
    "import matplotlib.pyplot as plt\n"
   ]
  },
  {
   "cell_type": "code",
   "execution_count": 4,
   "id": "0a941cc7",
   "metadata": {},
   "outputs": [
    {
     "data": {
      "text/plain": [
       "array([170, 191, 107, 137, 156, 150, 165, 112, 171, 119, 131, 174, 155,\n",
       "       183, 159, 191, 173, 196, 149, 153, 173, 108, 152, 130, 179, 114,\n",
       "       192, 158, 174, 122, 103, 191, 199, 171, 155, 183, 128, 113, 137,\n",
       "       182, 150, 179, 167, 130, 160, 144, 146, 187, 143, 135, 198, 131,\n",
       "       182, 105, 180, 165, 107, 192, 141, 199, 195, 188, 193, 125, 183,\n",
       "       158, 198, 170, 157, 157, 183, 185, 136, 163, 174, 188, 100, 101,\n",
       "       133, 152, 172, 157, 134, 114, 178, 171, 156, 177, 186, 184, 182,\n",
       "       191, 112, 190, 173, 127, 100, 121, 194, 132, 151, 150, 120, 141,\n",
       "       178, 155, 147, 143, 191, 176, 129, 145, 107, 110, 161, 119, 168,\n",
       "       125, 161, 198, 116, 188, 161, 151, 188, 141, 158, 121, 131, 195,\n",
       "       143, 168, 116, 103, 115, 179, 104, 106, 194, 166, 185, 151, 190,\n",
       "       183, 102, 109, 106, 139, 125, 156, 117, 113, 107, 150, 196, 148,\n",
       "       153, 100, 138, 160, 148, 167, 197, 161, 145, 161, 110, 177, 157,\n",
       "       152, 140, 101, 152, 158, 188, 122, 148, 124, 158, 193, 174, 189,\n",
       "       196, 143, 164, 171, 106, 143, 136, 177, 196, 102, 164, 175, 179,\n",
       "       194, 110, 115, 197, 120])"
      ]
     },
     "execution_count": 4,
     "metadata": {},
     "output_type": "execute_result"
    }
   ],
   "source": [
    "np.random.seed(40)\n",
    "data = np.random.randint(100,200, size =200)\n",
    "data"
   ]
  },
  {
   "cell_type": "code",
   "execution_count": 5,
   "id": "b8200d20",
   "metadata": {},
   "outputs": [],
   "source": [
    "#prepare input sequences (x = past 7 days)\n",
    "#labels y = next day\n",
    "def prepare_data(data, sequence_length = 7):\n",
    "    x, y = [], []\n",
    "    for i in range(len(data) - sequence_length):\n",
    "        x.append(data[i:i + sequence_length])\n",
    "        y.append(data[i + sequence_length])\n",
    "    return np.array(x), np.array(y)"
   ]
  },
  {
   "cell_type": "code",
   "execution_count": 6,
   "id": "43610b2a",
   "metadata": {},
   "outputs": [],
   "source": [
    "X, y = prepare_data(data)\n"
   ]
  },
  {
   "cell_type": "code",
   "execution_count": 7,
   "id": "fe8ba7a7",
   "metadata": {},
   "outputs": [
    {
     "data": {
      "text/plain": [
       "array([[170, 191, 107, ..., 156, 150, 165],\n",
       "       [191, 107, 137, ..., 150, 165, 112],\n",
       "       [107, 137, 156, ..., 165, 112, 171],\n",
       "       ...,\n",
       "       [196, 102, 164, ..., 179, 194, 110],\n",
       "       [102, 164, 175, ..., 194, 110, 115],\n",
       "       [164, 175, 179, ..., 110, 115, 197]])"
      ]
     },
     "execution_count": 7,
     "metadata": {},
     "output_type": "execute_result"
    }
   ],
   "source": [
    "X"
   ]
  },
  {
   "cell_type": "code",
   "execution_count": 8,
   "id": "dd061d71",
   "metadata": {},
   "outputs": [
    {
     "data": {
      "text/plain": [
       "array([112, 171, 119, 131, 174, 155, 183, 159, 191, 173, 196, 149, 153,\n",
       "       173, 108, 152, 130, 179, 114, 192, 158, 174, 122, 103, 191, 199,\n",
       "       171, 155, 183, 128, 113, 137, 182, 150, 179, 167, 130, 160, 144,\n",
       "       146, 187, 143, 135, 198, 131, 182, 105, 180, 165, 107, 192, 141,\n",
       "       199, 195, 188, 193, 125, 183, 158, 198, 170, 157, 157, 183, 185,\n",
       "       136, 163, 174, 188, 100, 101, 133, 152, 172, 157, 134, 114, 178,\n",
       "       171, 156, 177, 186, 184, 182, 191, 112, 190, 173, 127, 100, 121,\n",
       "       194, 132, 151, 150, 120, 141, 178, 155, 147, 143, 191, 176, 129,\n",
       "       145, 107, 110, 161, 119, 168, 125, 161, 198, 116, 188, 161, 151,\n",
       "       188, 141, 158, 121, 131, 195, 143, 168, 116, 103, 115, 179, 104,\n",
       "       106, 194, 166, 185, 151, 190, 183, 102, 109, 106, 139, 125, 156,\n",
       "       117, 113, 107, 150, 196, 148, 153, 100, 138, 160, 148, 167, 197,\n",
       "       161, 145, 161, 110, 177, 157, 152, 140, 101, 152, 158, 188, 122,\n",
       "       148, 124, 158, 193, 174, 189, 196, 143, 164, 171, 106, 143, 136,\n",
       "       177, 196, 102, 164, 175, 179, 194, 110, 115, 197, 120])"
      ]
     },
     "execution_count": 8,
     "metadata": {},
     "output_type": "execute_result"
    }
   ],
   "source": [
    "y"
   ]
  },
  {
   "cell_type": "code",
   "execution_count": 9,
   "id": "7ded2ba9",
   "metadata": {},
   "outputs": [
    {
     "data": {
      "text/plain": [
       "(193, 7, 1)"
      ]
     },
     "execution_count": 9,
     "metadata": {},
     "output_type": "execute_result"
    }
   ],
   "source": [
    "X = X.reshape((X.shape[0], X.shape[1], 1))  # Reshape for RNN input\n",
    "X.shape"
   ]
  },
  {
   "cell_type": "code",
   "execution_count": 10,
   "id": "ad5ce898",
   "metadata": {},
   "outputs": [],
   "source": [
    "from sklearn.model_selection import train_test_split\n",
    "X_train, X_test, y_train, y_test = train_test_split(X, y, test_size=0.2, random_state=42)"
   ]
  },
  {
   "cell_type": "code",
   "execution_count": 11,
   "id": "17822a7a",
   "metadata": {},
   "outputs": [
    {
     "name": "stdout",
     "output_type": "stream",
     "text": [
      "Epoch 1/30\n",
      "5/5 [==============================] - 1s 3ms/step - loss: 20499.2930\n",
      "Epoch 2/30\n",
      "5/5 [==============================] - 0s 3ms/step - loss: 14510.7471\n",
      "Epoch 3/30\n",
      "5/5 [==============================] - 0s 3ms/step - loss: 9613.1982\n",
      "Epoch 4/30\n",
      "5/5 [==============================] - 0s 3ms/step - loss: 5404.5825\n",
      "Epoch 5/30\n",
      "5/5 [==============================] - 0s 3ms/step - loss: 2191.0659\n",
      "Epoch 6/30\n",
      "5/5 [==============================] - 0s 3ms/step - loss: 1052.5356\n",
      "Epoch 7/30\n",
      "5/5 [==============================] - 0s 3ms/step - loss: 1703.2356\n",
      "Epoch 8/30\n",
      "5/5 [==============================] - 0s 3ms/step - loss: 1220.2599\n",
      "Epoch 9/30\n",
      "5/5 [==============================] - 0s 3ms/step - loss: 1121.3513\n",
      "Epoch 10/30\n",
      "5/5 [==============================] - 0s 2ms/step - loss: 1171.2767\n",
      "Epoch 11/30\n",
      "5/5 [==============================] - 0s 3ms/step - loss: 1081.5742\n",
      "Epoch 12/30\n",
      "5/5 [==============================] - 0s 3ms/step - loss: 1030.2242\n",
      "Epoch 13/30\n",
      "5/5 [==============================] - 0s 3ms/step - loss: 1034.6682\n",
      "Epoch 14/30\n",
      "5/5 [==============================] - 0s 3ms/step - loss: 1017.1891\n",
      "Epoch 15/30\n",
      "5/5 [==============================] - 0s 4ms/step - loss: 993.8552\n",
      "Epoch 16/30\n",
      "5/5 [==============================] - 0s 3ms/step - loss: 985.5077\n",
      "Epoch 17/30\n",
      "5/5 [==============================] - 0s 3ms/step - loss: 972.6710\n",
      "Epoch 18/30\n",
      "5/5 [==============================] - 0s 3ms/step - loss: 966.6624\n",
      "Epoch 19/30\n",
      "5/5 [==============================] - 0s 3ms/step - loss: 965.5446\n",
      "Epoch 20/30\n",
      "5/5 [==============================] - 0s 3ms/step - loss: 956.7508\n",
      "Epoch 21/30\n",
      "5/5 [==============================] - 0s 3ms/step - loss: 950.2431\n",
      "Epoch 22/30\n",
      "5/5 [==============================] - 0s 3ms/step - loss: 946.8577\n",
      "Epoch 23/30\n",
      "5/5 [==============================] - 0s 3ms/step - loss: 941.6812\n",
      "Epoch 24/30\n",
      "5/5 [==============================] - 0s 3ms/step - loss: 939.4148\n",
      "Epoch 25/30\n",
      "5/5 [==============================] - 0s 2ms/step - loss: 936.7654\n",
      "Epoch 26/30\n",
      "5/5 [==============================] - 0s 3ms/step - loss: 932.4787\n",
      "Epoch 27/30\n",
      "5/5 [==============================] - 0s 3ms/step - loss: 944.3160\n",
      "Epoch 28/30\n",
      "5/5 [==============================] - 0s 3ms/step - loss: 922.9708\n",
      "Epoch 29/30\n",
      "5/5 [==============================] - 0s 5ms/step - loss: 932.5674\n",
      "Epoch 30/30\n",
      "5/5 [==============================] - 0s 4ms/step - loss: 948.8058\n"
     ]
    }
   ],
   "source": [
    "#build the RNN model\n",
    "rnnmodel = Sequential()\n",
    "rnnmodel.add(SimpleRNN(50, activation='relu', input_shape=(X_train.shape[1], 1)))\n",
    "rnnmodel.add(Dense(1))  # Output layer for regression\n",
    "\n",
    "rnnmodel.compile(optimizer='adam', loss='mse')\n",
    "#train the model\n",
    "history = rnnmodel.fit(X_train, y_train, epochs=30, verbose=1)"
   ]
  },
  {
   "cell_type": "code",
   "execution_count": 12,
   "id": "f90fa18c",
   "metadata": {},
   "outputs": [
    {
     "name": "stdout",
     "output_type": "stream",
     "text": [
      "2/2 [==============================] - 0s 4ms/step\n"
     ]
    }
   ],
   "source": [
    "y_pred  = rnnmodel.predict(X_test)\n"
   ]
  },
  {
   "cell_type": "code",
   "execution_count": 13,
   "id": "214ee1b5",
   "metadata": {},
   "outputs": [
    {
     "data": {
      "text/plain": [
       "(39, 7, 1)"
      ]
     },
     "execution_count": 13,
     "metadata": {},
     "output_type": "execute_result"
    }
   ],
   "source": [
    "X_test.shape"
   ]
  },
  {
   "cell_type": "code",
   "execution_count": 15,
   "id": "fceb7819",
   "metadata": {},
   "outputs": [],
   "source": [
    "# Convert set to sorted list, then to numpy array and reshape for RNN input\n",
    "new_data = np.array(sorted([101, 112, 113, 154, 167, 181, 106])).reshape((1, 7, 1))\n"
   ]
  },
  {
   "cell_type": "code",
   "execution_count": 16,
   "id": "b29d8b9e",
   "metadata": {},
   "outputs": [
    {
     "name": "stdout",
     "output_type": "stream",
     "text": [
      "1/1 [==============================] - 0s 24ms/step\n",
      "Predicted value: 145.22757\n"
     ]
    }
   ],
   "source": [
    "new_prediction = rnnmodel.predict(new_data.reshape(1, 7, 1))\n",
    "print(\"Predicted value:\", new_prediction[0][0])"
   ]
  },
  {
   "cell_type": "code",
   "execution_count": 17,
   "id": "3e322114",
   "metadata": {},
   "outputs": [
    {
     "data": {
      "text/plain": [
       "array([[106],\n",
       "       [194],\n",
       "       [166],\n",
       "       [185],\n",
       "       [151],\n",
       "       [190],\n",
       "       [183]])"
      ]
     },
     "execution_count": 17,
     "metadata": {},
     "output_type": "execute_result"
    }
   ],
   "source": [
    "X_test[1]"
   ]
  },
  {
   "cell_type": "code",
   "execution_count": 18,
   "id": "6ee08dd3",
   "metadata": {},
   "outputs": [
    {
     "data": {
      "text/plain": [
       "102"
      ]
     },
     "execution_count": 18,
     "metadata": {},
     "output_type": "execute_result"
    }
   ],
   "source": [
    "y_test[1]"
   ]
  },
  {
   "cell_type": "code",
   "execution_count": 19,
   "id": "f80a7b7d",
   "metadata": {},
   "outputs": [
    {
     "name": "stdout",
     "output_type": "stream",
     "text": [
      "1/1 [==============================] - 0s 25ms/step\n"
     ]
    },
    {
     "data": {
      "text/plain": [
       "array([[166.69818]], dtype=float32)"
      ]
     },
     "execution_count": 19,
     "metadata": {},
     "output_type": "execute_result"
    }
   ],
   "source": [
    "rnnmodel.predict(X_test[1].reshape(1, 7, 1))"
   ]
  }
 ],
 "metadata": {
  "kernelspec": {
   "display_name": "Python 3",
   "language": "python",
   "name": "python3"
  },
  "language_info": {
   "codemirror_mode": {
    "name": "ipython",
    "version": 3
   },
   "file_extension": ".py",
   "mimetype": "text/x-python",
   "name": "python",
   "nbconvert_exporter": "python",
   "pygments_lexer": "ipython3",
   "version": "3.11.9"
  }
 },
 "nbformat": 4,
 "nbformat_minor": 5
}
