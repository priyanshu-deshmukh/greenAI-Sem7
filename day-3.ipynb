{
 "cells": [
  {
   "cell_type": "code",
   "execution_count": 2,
   "id": "5c9339e2",
   "metadata": {},
   "outputs": [
    {
     "name": "stdout",
     "output_type": "stream",
     "text": [
      "Emissions: 21.2 KG CO2\n",
      "Consider switching to: walk, bike, train, bus for lower emissions.\n"
     ]
    }
   ],
   "source": [
    "class Carbon_tracker:\n",
    "    def __init__(self, transport_mode, distance):\n",
    "        self.transport_mode = transport_mode.lower()\n",
    "        self.distance = distance\n",
    "\n",
    "    def emission_calculator(self):\n",
    "        emission_factors = {\n",
    "            'car': 0.212,\n",
    "            'bus': 0.089,\n",
    "            'train': 0.041,\n",
    "            'bike': 0.0,\n",
    "            'walk': 0.0,\n",
    "            'plane': 0.285\n",
    "        }\n",
    "\n",
    "        # Handle invalid mode\n",
    "        if self.transport_mode not in emission_factors:\n",
    "            print(f\"Warning: Unknown mode '{self.transport_mode}', using default emission factor of 0.15 kg/km\")\n",
    "        \n",
    "        # Calculate emissions\n",
    "        return self.distance * emission_factors.get(self.transport_mode, 0.15)\n",
    "\n",
    "    def alternative_option_suggestion(self):\n",
    "        # Suggest lower-emission alternatives\n",
    "        low_emission_modes = ['walk', 'bike', 'train', 'bus']\n",
    "        suggestions = [mode for mode in low_emission_modes if self._compare_emissions(mode)]\n",
    "        \n",
    "        if suggestions:\n",
    "            return f\"Consider switching to: {', '.join(suggestions)} for lower emissions.\"\n",
    "        else:\n",
    "            return \"You are already using one of the most eco-friendly options.\"\n",
    "\n",
    "    def _compare_emissions(self, alternative_mode):\n",
    "        # Helper to compare emission values\n",
    "        emission_factors = {\n",
    "            'car': 0.212,\n",
    "            'bus': 0.089,\n",
    "            'train': 0.041,\n",
    "            'bike': 0.0,\n",
    "            'walk': 0.0,\n",
    "            'plane': 0.285\n",
    "        }\n",
    "        current = emission_factors.get(self.transport_mode, 0.15)\n",
    "        alternative = emission_factors[alternative_mode]\n",
    "        return alternative < current\n",
    "\n",
    "# Example usage:\n",
    "tracker = Carbon_tracker('car', 100)\n",
    "print(f\"Emissions: {tracker.emission_calculator()} KG CO2\")\n",
    "print(tracker.alternative_option_suggestion())\n"
   ]
  },
  {
   "cell_type": "code",
   "execution_count": null,
   "id": "e1920cc4",
   "metadata": {},
   "outputs": [],
   "source": [
    "class energy_system:\n",
    "    def __init__(self, building_name, emission_factor, energy_consumption):\n",
    "        self.building_name = building_name\n",
    "        self.emission_factor = emission_factor\n",
    "        self.energy_consumption = energy_consumption\n",
    "\n",
    "A = energy_system(\"Building A\", 0.28, 105) "
   ]
  }
 ],
 "metadata": {
  "kernelspec": {
   "display_name": "Python 3",
   "language": "python",
   "name": "python3"
  },
  "language_info": {
   "codemirror_mode": {
    "name": "ipython",
    "version": 3
   },
   "file_extension": ".py",
   "mimetype": "text/x-python",
   "name": "python",
   "nbconvert_exporter": "python",
   "pygments_lexer": "ipython3",
   "version": "3.11.9"
  }
 },
 "nbformat": 4,
 "nbformat_minor": 5
}
