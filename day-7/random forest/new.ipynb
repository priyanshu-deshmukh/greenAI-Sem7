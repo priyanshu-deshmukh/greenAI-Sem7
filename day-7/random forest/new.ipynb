{
 "cells": [
  {
   "cell_type": "code",
   "execution_count": null,
   "id": "f3bb56d9",
   "metadata": {},
   "outputs": [],
   "source": [
    "import numpy as np\n",
    "import pandas as pd\n",
    "import matplotlib.pyplot as plt\n",
    "from sklearn.model_selection import train_test_split\n",
    "from sklearn.linear_model import LogisticRegression\n",
    "from sklearn.metrics import accuracy_score, confusion_matrix, classification_report"
   ]
  },
  {
   "cell_type": "code",
   "execution_count": null,
   "id": "29c9079a",
   "metadata": {},
   "outputs": [],
   "source": [
    "data = pd.read_csv(r'C:\\Users\\priya\\OneDrive\\Desktop\\greenAI\\day-7\\green_tech_data.csv')\n",
    "print(data.head())"
   ]
  },
  {
   "cell_type": "code",
   "execution_count": null,
   "id": "51732e2a",
   "metadata": {},
   "outputs": [],
   "source": [
    "print(data.isnull().sum())\n",
    "data.fillna(data.mean(numeric_only=True), inplace=True)"
   ]
  },
  {
   "cell_type": "code",
   "execution_count": null,
   "id": "dee20aa8",
   "metadata": {},
   "outputs": [],
   "source": [
    "X = data[['carbon_emissions', 'energy_output', 'renewability_index', 'cost_efficiency']]\n",
    "y = data['sustainability']  # This should be categorical"
   ]
  },
  {
   "cell_type": "code",
   "execution_count": null,
   "id": "9ae25ef1",
   "metadata": {},
   "outputs": [],
   "source": [
    "X_train, X_test, y_train, y_test = train_test_split(X, y, test_size=0.2, random_state=42)\n"
   ]
  },
  {
   "cell_type": "code",
   "execution_count": null,
   "id": "1e2ebe83",
   "metadata": {},
   "outputs": [],
   "source": [
    "model = LogisticRegression()\n",
    "model.fit(X_train, y_train)"
   ]
  },
  {
   "cell_type": "code",
   "execution_count": null,
   "id": "3277f6ad",
   "metadata": {},
   "outputs": [],
   "source": [
    "y_pred = model.predict(X_test)\n"
   ]
  },
  {
   "cell_type": "code",
   "execution_count": null,
   "id": "0a5eecaa",
   "metadata": {},
   "outputs": [],
   "source": [
    "carbon_emissions = float(input(\"Enter carbon emissions: \"))\n",
    "energy_output = float(input(\"Enter energy output: \"))\n",
    "renewability_index = float(input(\"Enter renewability index: \"))\n",
    "cost_efficiency = float(input(\"Enter cost efficiency: \"))"
   ]
  },
  {
   "cell_type": "code",
   "execution_count": null,
   "id": "57ffd3eb",
   "metadata": {},
   "outputs": [],
   "source": [
    "input_features = np.array([[carbon_emissions, energy_output, renewability_index, cost_efficiency]])\n",
    "predicted_sustainability = model.predict(input_features)\n",
    "print(\"Predicted Sustainability:\", \"Sustainable\" if predicted_sustainability[0] == 1 else \"Not Sustainable\")\n"
   ]
  },
  {
   "cell_type": "code",
   "execution_count": null,
   "id": "27ac5ec2",
   "metadata": {},
   "outputs": [],
   "source": [
    "print(\"Accuracy:\", accuracy_score(y_test, y_pred))\n",
    "print(\"Confusion Matrix:\\n\", confusion_matrix(y_test, y_pred))\n",
    "print(\"Classification Report:\\n\", classification_report(y_test, y_pred))"
   ]
  }
 ],
 "metadata": {
  "kernelspec": {
   "display_name": "Python 3",
   "language": "python",
   "name": "python3"
  },
  "language_info": {
   "codemirror_mode": {
    "name": "ipython",
    "version": 3
   },
   "file_extension": ".py",
   "mimetype": "text/x-python",
   "name": "python",
   "nbconvert_exporter": "python",
   "pygments_lexer": "ipython3",
   "version": "3.11.9"
  }
 },
 "nbformat": 4,
 "nbformat_minor": 5
}
