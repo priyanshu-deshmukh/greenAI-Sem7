{
 "cells": [
  {
   "cell_type": "code",
   "execution_count": 11,
   "id": "ec0f9ae4",
   "metadata": {},
   "outputs": [
    {
     "name": "stdout",
     "output_type": "stream",
     "text": [
      "Elements from index 1 to 4: [20 30 40 50]\n",
      "Every second element: [10 30 50 70]\n",
      "Last three elements: [50 60 70]\n",
      "First two rows:\n",
      " [[1 2 3 4]\n",
      " [5 6 7 8]]\n",
      "Last two columns:\n",
      " [[ 3  4]\n",
      " [ 7  8]\n",
      " [11 12]]\n",
      "Submatrix (rows 1-2, cols 2-3):\n",
      " [[2 3]\n",
      " [6 7]]\n"
     ]
    }
   ],
   "source": [
    "import numpy as np\n",
    "\n",
    "\n",
    "arr = np.array([10, 20, 30, 40, 50, 60, 70])\n",
    "\n",
    "print(\"Elements from index 1 to 4:\", arr[1:5])        # [20 30 40 50]\n",
    "print(\"Every second element:\", arr[::2])              # [10 30 50 70]\n",
    "print(\"Last three elements:\", arr[-3:])               # [50 60 70]\n",
    "\n",
    "arr2d = np.array([\n",
    "    [1, 2, 3, 4],\n",
    "    [5, 6, 7, 8],\n",
    "    [9, 10, 11, 12]\n",
    "])\n",
    "\n",
    "print(\"First two rows:\\n\", arr2d[:2, :])\n",
    "print(\"Last two columns:\\n\", arr2d[:, -2:])\n",
    "print(\"Submatrix (rows 1-2, cols 2-3):\\n\", arr2d[0:2, 1:3])"
   ]
  },
  {
   "cell_type": "code",
   "execution_count": 12,
   "id": "bd03917b",
   "metadata": {},
   "outputs": [],
   "source": [
    "import numpy as np\n"
   ]
  },
  {
   "cell_type": "code",
   "execution_count": 13,
   "id": "190fa461",
   "metadata": {},
   "outputs": [],
   "source": [
    "# 1D array with at least 15 elements\n",
    "array_1d = np.arange(1, 16)"
   ]
  },
  {
   "cell_type": "code",
   "execution_count": 14,
   "id": "2a52246c",
   "metadata": {},
   "outputs": [],
   "source": [
    "# 2D array with at least 4 rows and 5 columns\n",
    "array_2d = np.arange(1, 21).reshape(4, 5)"
   ]
  },
  {
   "cell_type": "code",
   "execution_count": 15,
   "id": "2f6c4397",
   "metadata": {},
   "outputs": [],
   "source": [
    "# 3D array with 2 matrices, each with 3 rows and 4 columns\n",
    "array_3d = np.arange(1, 25).reshape(2, 3, 4)"
   ]
  },
  {
   "cell_type": "code",
   "execution_count": 16,
   "id": "bae41d20",
   "metadata": {},
   "outputs": [
    {
     "name": "stdout",
     "output_type": "stream",
     "text": [
      "1D Array Slices:\n",
      "First 5 elements: [1 2 3 4 5]\n",
      "Middle 5 elements: [ 6  7  8  9 10]\n",
      "Every 2nd element: [ 1  3  5  7  9 11 13 15]\n",
      "Every 3rd element starting from index 1: [ 2  5  8 11 14]\n",
      "Reversed array: [15 14 13 12 11 10  9  8  7  6  5  4  3  2  1]\n"
     ]
    }
   ],
   "source": [
    "slice_1d_1 = array_1d[0:5]          # First 5 elements\n",
    "slice_1d_2 = array_1d[5:10]         # Middle 5 elements\n",
    "slice_1d_3 = array_1d[::2]          # Every 2nd element\n",
    "slice_1d_4 = array_1d[1::3]         # Every 3rd element starting from index 1\n",
    "slice_1d_5 = array_1d[::-1]         # Reversed array (negative slicing)\n",
    "\n",
    "print(\"1D Array Slices:\")\n",
    "print(\"First 5 elements:\", slice_1d_1)\n",
    "print(\"Middle 5 elements:\", slice_1d_2)\n",
    "print(\"Every 2nd element:\", slice_1d_3)\n",
    "print(\"Every 3rd element starting from index 1:\", slice_1d_4)\n",
    "print(\"Reversed array:\", slice_1d_5)\n",
    "\n"
   ]
  },
  {
   "cell_type": "code",
   "execution_count": 17,
   "id": "aa462ca0",
   "metadata": {},
   "outputs": [
    {
     "name": "stdout",
     "output_type": "stream",
     "text": [
      "\n",
      "2D Array Slices:\n",
      "Second row: [ 6  7  8  9 10]\n",
      "Third column: [ 3  8 13 18]\n",
      "Rows 1-2 and Columns 2-4:\n",
      " [[ 8  9 10]\n",
      " [13 14 15]]\n",
      "Reversed rows:\n",
      " [[16 17 18 19 20]\n",
      " [11 12 13 14 15]\n",
      " [ 6  7  8  9 10]\n",
      " [ 1  2  3  4  5]]\n",
      "Reversed columns:\n",
      " [[ 5  4  3  2  1]\n",
      " [10  9  8  7  6]\n",
      " [15 14 13 12 11]\n",
      " [20 19 18 17 16]]\n"
     ]
    }
   ],
   "source": [
    "slice_2d_1 = array_2d[1]            # Second row\n",
    "slice_2d_2 = array_2d[:, 2]         # Third column\n",
    "slice_2d_3 = array_2d[1:3, 2:5]     # Rows 1-2 and Columns 2-4\n",
    "slice_2d_4 = array_2d[::-1]         # Reversed rows\n",
    "slice_2d_5 = array_2d[:, ::-1]      # Reversed columns\n",
    "print(\"\\n2D Array Slices:\")\n",
    "print(\"Second row:\", slice_2d_1)\n",
    "print(\"Third column:\", slice_2d_2)\n",
    "print(\"Rows 1-2 and Columns 2-4:\\n\", slice_2d_3)\n",
    "print(\"Reversed rows:\\n\", slice_2d_4)\n",
    "print(\"Reversed columns:\\n\", slice_2d_5)"
   ]
  },
  {
   "cell_type": "code",
   "execution_count": 18,
   "id": "d1c7db0f",
   "metadata": {},
   "outputs": [
    {
     "name": "stdout",
     "output_type": "stream",
     "text": [
      "\n",
      "3D Array Slices:\n",
      "First matrix:\n",
      " [[ 1  2  3  4]\n",
      " [ 5  6  7  8]\n",
      " [ 9 10 11 12]]\n",
      "Second matrix, second row: [17 18 19 20]\n",
      "Specific element (matrix 1, row 1, col 2): 19\n",
      "Reversed matrices:\n",
      " [[[13 14 15 16]\n",
      "  [17 18 19 20]\n",
      "  [21 22 23 24]]\n",
      "\n",
      " [[ 1  2  3  4]\n",
      "  [ 5  6  7  8]\n",
      "  [ 9 10 11 12]]]\n",
      "Reversed rows in each matrix:\n",
      " [[[ 9 10 11 12]\n",
      "  [ 5  6  7  8]\n",
      "  [ 1  2  3  4]]\n",
      "\n",
      " [[21 22 23 24]\n",
      "  [17 18 19 20]\n",
      "  [13 14 15 16]]]\n",
      "Reversed columns in each row of each matrix:\n",
      " [[[ 4  3  2  1]\n",
      "  [ 8  7  6  5]\n",
      "  [12 11 10  9]]\n",
      "\n",
      " [[16 15 14 13]\n",
      "  [20 19 18 17]\n",
      "  [24 23 22 21]]]\n"
     ]
    }
   ],
   "source": [
    "\n",
    "slice_3d_1 = array_3d[0]            # First matrix\n",
    "slice_3d_2 = array_3d[1, 1]         # Second matrix, second row\n",
    "slice_3d_3 = array_3d[1, 1, 2]      # Specific element: matrix 1, row 1, col 2\n",
    "slice_3d_4 = array_3d[::-1]         # Reverse matrices\n",
    "slice_3d_5 = array_3d[:, ::-1]      # Reverse rows in each matrix\n",
    "slice_3d_6 = array_3d[:, :, ::-1]   # Reverse columns in each row of each matrix\n",
    "print(\"\\n3D Array Slices:\")\n",
    "print(\"First matrix:\\n\", slice_3d_1)\n",
    "print(\"Second matrix, second row:\", slice_3d_2)\n",
    "print(\"Specific element (matrix 1, row 1, col 2):\", slice_3d_3)\n",
    "print(\"Reversed matrices:\\n\", slice_3d_4)\n",
    "print(\"Reversed rows in each matrix:\\n\", slice_3d_5)\n",
    "print(\"Reversed columns in each row of each matrix:\\n\", slice_3d_6)\n"
   ]
  },
  {
   "cell_type": "code",
   "execution_count": 22,
   "id": "430d445d",
   "metadata": {},
   "outputs": [],
   "source": [
    "# axis means the dimension along which the operation is performed\n",
    "# For 1D arrays, axis=0 column and axis = 1 refers to rows.\n",
    "# For 2D arrays, axis=0 refers to rows and axis=1 refers to columns.\n",
    "# For 3D arrays, axis=0 refers to the first dimension (matrices), axis=1 refers to rows, and axis=2 refers to columns.\n",
    "\n"
   ]
  },
  {
   "cell_type": "code",
   "execution_count": 25,
   "id": "77659ec4",
   "metadata": {},
   "outputs": [
    {
     "name": "stdout",
     "output_type": "stream",
     "text": [
      "\n",
      "Carbon Emissions Data (10 years, 5 cities):\n",
      " [[1431 3103 2662 4765 1525]\n",
      " [2024 3595 3148 3406 4231]\n",
      " [2096 3566 2068 1334 1138]\n",
      " [2301 2123 1297 1065 1807]\n",
      " [2909 4952 3837 2114 2202]\n",
      " [4845 3467 3780 3429 2138]\n",
      " [3635 4933 3279 1031 4064]\n",
      " [1658 3413 2307 4484 4493]\n",
      " [2763 3197 2086 4780 4098]\n",
      " [4550 1688 1479 1199 3153]]\n",
      "\n",
      "Total emissions for each city over 10 years: [28212 34037 25943 27607 28849]\n",
      "Year with the highest total emissions: 6\n",
      "Average emissions for all cities in Year 5: 3202.8\n"
     ]
    }
   ],
   "source": [
    "# Exercise 1: Analyzing Carbon Emissions Data \n",
    "# Imagine you have a dataset containing carbon emissions from various cities in a country over a period of time. The data is organized in a NumPy array where each row represents a year, and each column represents a city. \n",
    "# Task: \n",
    "# 1. Create a 2D NumPy array that stores carbon emissions (in tons) for 5 cities over 10 years. The data should be random numbers between 1000 and 5000 (use numpy.random.randint). \n",
    "# 2. Find the total emissions for each city over the 10 years. \n",
    "# 3. Find the year with the highest total emissions. \n",
    "# 4. Calculate the average emissions for all cities in a specific year (say, Year 5).\n",
    "\n",
    "# Step 1: Create a 2D NumPy array with random emissions data\n",
    "import numpy as np\n",
    "emissions_data = np.random.randint(1000, 5000, size=(10, 5))\n",
    "print(\"\\nCarbon Emissions Data (10 years, 5 cities):\\n\", emissions_data)\n",
    "# Step 2: Find the total emissions for each city over the 10 years\n",
    "total_emissions_per_city = emissions_data.sum(axis=0)\n",
    "print(\"\\nTotal emissions for each city over 10 years:\", total_emissions_per_city)\n",
    "\n",
    "# Step 3: Find the year with the highest total emissions\n",
    "total_emissions_per_year = emissions_data.sum(axis=1)\n",
    "highest_year_index = np.argmax(total_emissions_per_year)\n",
    "highest_year = highest_year_index + 1  # Adding 1 to convert index to year (1-based)\n",
    "print(\"Year with the highest total emissions:\", highest_year)\n",
    "\n",
    "# Step 4: Calculate the average emissions for all cities in Year 5\n",
    "average_emissions_year_5 = emissions_data[4].mean()  # Year 5 is at index 4\n",
    "print(\"Average emissions for all cities in Year 5:\", average_emissions_year_5)\n",
    "\n"
   ]
  },
  {
   "cell_type": "code",
   "execution_count": null,
   "id": "e2a443df",
   "metadata": {},
   "outputs": [],
   "source": []
  }
 ],
 "metadata": {
  "kernelspec": {
   "display_name": "Python 3",
   "language": "python",
   "name": "python3"
  },
  "language_info": {
   "codemirror_mode": {
    "name": "ipython",
    "version": 3
   },
   "file_extension": ".py",
   "mimetype": "text/x-python",
   "name": "python",
   "nbconvert_exporter": "python",
   "pygments_lexer": "ipython3",
   "version": "3.11.9"
  }
 },
 "nbformat": 4,
 "nbformat_minor": 5
}
