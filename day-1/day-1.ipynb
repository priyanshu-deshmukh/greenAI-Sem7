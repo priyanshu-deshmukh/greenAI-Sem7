{
 "cells": [
  {
   "cell_type": "code",
   "execution_count": null,
   "id": "cb78e461",
   "metadata": {},
   "outputs": [],
   "source": [
    "print(\"hello world\")"
   ]
  },
  {
   "cell_type": "code",
   "execution_count": null,
   "id": "737d0ded",
   "metadata": {},
   "outputs": [],
   "source": [
    "#this is a comment"
   ]
  },
  {
   "cell_type": "code",
   "execution_count": null,
   "id": "eac0a2e2",
   "metadata": {},
   "outputs": [],
   "source": [
    "print(4)"
   ]
  },
  {
   "cell_type": "code",
   "execution_count": null,
   "id": "b1c18e82",
   "metadata": {},
   "outputs": [],
   "source": [
    "a = 10\n",
    "b = 20\n",
    "if a > b:\n",
    "    print(\"a > b\")\n",
    "else:\n",
    "    print(\"a <= b\")\n",
    "\n",
    "print(\"hello SIT\")"
   ]
  },
  {
   "cell_type": "code",
   "execution_count": null,
   "id": "84aee1e8",
   "metadata": {},
   "outputs": [],
   "source": [
    "print(\"hello\")"
   ]
  },
  {
   "cell_type": "code",
   "execution_count": 2,
   "id": "02a278c0",
   "metadata": {},
   "outputs": [
    {
     "name": "stdout",
     "output_type": "stream",
     "text": [
      "<class 'str'>\n",
      "<class 'int'>\n",
      "<class 'float'>\n",
      "<class 'bool'>\n"
     ]
    }
   ],
   "source": [
    "name = 'priyanshu'\n",
    "age = 21\n",
    "height = 5.10\n",
    "male = True\n",
    "\n",
    "print(type(name))\n",
    "print(type(age))\n",
    "print(type(height))\n",
    "print(type(male))"
   ]
  },
  {
   "cell_type": "code",
   "execution_count": 8,
   "id": "b394ffcd",
   "metadata": {},
   "outputs": [],
   "source": [
    "#strings\n",
    "city = 'Nagpur'\n",
    "state = 'Maharashtra'"
   ]
  },
  {
   "cell_type": "code",
   "execution_count": 6,
   "id": "2dbc13d1",
   "metadata": {},
   "outputs": [
    {
     "name": "stdout",
     "output_type": "stream",
     "text": [
      "{'hello': 'greeting'}\n"
     ]
    }
   ],
   "source": [
    "meaning = {\n",
    "    'hello' : \"greeting\"\n",
    "}\n",
    "\n",
    "print(meaning)"
   ]
  },
  {
   "cell_type": "code",
   "execution_count": 9,
   "id": "10cfa755",
   "metadata": {},
   "outputs": [
    {
     "name": "stdout",
     "output_type": "stream",
     "text": [
      "Nagpur\n",
      "Nagpur\n",
      "Nagpur\n",
      "\n"
     ]
    }
   ],
   "source": [
    "print((city + \"\\n\")*3 )"
   ]
  },
  {
   "cell_type": "code",
   "execution_count": null,
   "id": "00a1ae90",
   "metadata": {},
   "outputs": [],
   "source": [
    "dir(city)"
   ]
  },
  {
   "cell_type": "code",
   "execution_count": 11,
   "id": "06a2ebbc",
   "metadata": {},
   "outputs": [
    {
     "data": {
      "text/plain": [
       "'NAGPUR'"
      ]
     },
     "execution_count": 11,
     "metadata": {},
     "output_type": "execute_result"
    }
   ],
   "source": [
    "city.upper()"
   ]
  },
  {
   "cell_type": "code",
   "execution_count": null,
   "id": "24bb2b10",
   "metadata": {},
   "outputs": [],
   "source": [
    "cities = ['nagpur', 'hyderabad', 'bengaluru']\n",
    "dir(cities)"
   ]
  },
  {
   "cell_type": "code",
   "execution_count": 18,
   "id": "4936da8e",
   "metadata": {},
   "outputs": [
    {
     "name": "stdout",
     "output_type": "stream",
     "text": [
      "not palindrome\n"
     ]
    }
   ],
   "source": [
    "nameeee = input(\"enter a string\")\n",
    "\n",
    "if nameeee == nameeee[::-1]:\n",
    "    print(f\"{nameeee} is a palindrome\")\n",
    "else:\n",
    "    print(\"not palindrome\")"
   ]
  },
  {
   "cell_type": "code",
   "execution_count": 21,
   "id": "115141f0",
   "metadata": {},
   "outputs": [
    {
     "name": "stdout",
     "output_type": "stream",
     "text": [
      "{'name': 'nagpur', 'temp': 30, 'cf': 400.7}\n",
      "nagpur\n"
     ]
    }
   ],
   "source": [
    "city_dict = {\n",
    "    \"name\": 'nagpur',\n",
    "    \"temp\": 30,\n",
    "    \"cf\": 400.7,\n",
    "}\n",
    "\n",
    "print(city_dict)\n",
    "\n",
    "print(city_dict[\"name\"])"
   ]
  }
 ],
 "metadata": {
  "kernelspec": {
   "display_name": "Python 3",
   "language": "python",
   "name": "python3"
  },
  "language_info": {
   "codemirror_mode": {
    "name": "ipython",
    "version": 3
   },
   "file_extension": ".py",
   "mimetype": "text/x-python",
   "name": "python",
   "nbconvert_exporter": "python",
   "pygments_lexer": "ipython3",
   "version": "3.11.9"
  }
 },
 "nbformat": 4,
 "nbformat_minor": 5
}
