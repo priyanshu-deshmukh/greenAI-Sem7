{
 "cells": [
  {
   "cell_type": "code",
   "execution_count": 63,
   "id": "bdcbd215",
   "metadata": {},
   "outputs": [],
   "source": [
    "#build a neural network "
   ]
  },
  {
   "cell_type": "code",
   "execution_count": 64,
   "id": "bd5a7459",
   "metadata": {},
   "outputs": [],
   "source": [
    "import pandas as pd\n",
    "import numpy as np\n",
    "import matplotlib.pyplot as plt\n",
    "from sklearn.model_selection import train_test_split\n",
    "from sklearn.preprocessing import StandardScaler\n",
    "from keras.models import Sequential\n",
    "from keras.layers import Dense\n",
    "\n"
   ]
  },
  {
   "cell_type": "code",
   "execution_count": 65,
   "id": "f4716b47",
   "metadata": {},
   "outputs": [],
   "source": [
    "energy = pd.read_csv(r'C:\\Users\\priya\\OneDrive\\Desktop\\greenAI\\day-9\\deep learning\\predict_energy_consumption(in) (1).csv')"
   ]
  },
  {
   "cell_type": "code",
   "execution_count": 66,
   "id": "28fa0112",
   "metadata": {},
   "outputs": [
    {
     "data": {
      "text/html": [
       "<div>\n",
       "<style scoped>\n",
       "    .dataframe tbody tr th:only-of-type {\n",
       "        vertical-align: middle;\n",
       "    }\n",
       "\n",
       "    .dataframe tbody tr th {\n",
       "        vertical-align: top;\n",
       "    }\n",
       "\n",
       "    .dataframe thead th {\n",
       "        text-align: right;\n",
       "    }\n",
       "</style>\n",
       "<table border=\"1\" class=\"dataframe\">\n",
       "  <thead>\n",
       "    <tr style=\"text-align: right;\">\n",
       "      <th></th>\n",
       "      <th>temperature</th>\n",
       "      <th>humidity</th>\n",
       "      <th>wind_speed</th>\n",
       "      <th>solar_irradiance</th>\n",
       "      <th>energy_consumption</th>\n",
       "    </tr>\n",
       "  </thead>\n",
       "  <tbody>\n",
       "    <tr>\n",
       "      <th>0</th>\n",
       "      <td>24.363503</td>\n",
       "      <td>31.107976</td>\n",
       "      <td>5.234114</td>\n",
       "      <td>705.432695</td>\n",
       "      <td>307.398145</td>\n",
       "    </tr>\n",
       "    <tr>\n",
       "      <th>1</th>\n",
       "      <td>38.767858</td>\n",
       "      <td>52.514057</td>\n",
       "      <td>4.939576</td>\n",
       "      <td>817.013258</td>\n",
       "      <td>412.444548</td>\n",
       "    </tr>\n",
       "    <tr>\n",
       "      <th>2</th>\n",
       "      <td>33.299849</td>\n",
       "      <td>72.376750</td>\n",
       "      <td>18.125092</td>\n",
       "      <td>325.421109</td>\n",
       "      <td>392.072418</td>\n",
       "    </tr>\n",
       "    <tr>\n",
       "      <th>3</th>\n",
       "      <td>29.966462</td>\n",
       "      <td>63.933493</td>\n",
       "      <td>4.990924</td>\n",
       "      <td>662.386690</td>\n",
       "      <td>119.254957</td>\n",
       "    </tr>\n",
       "    <tr>\n",
       "      <th>4</th>\n",
       "      <td>18.900466</td>\n",
       "      <td>68.393669</td>\n",
       "      <td>5.438995</td>\n",
       "      <td>614.571385</td>\n",
       "      <td>117.162261</td>\n",
       "    </tr>\n",
       "    <tr>\n",
       "      <th>...</th>\n",
       "      <td>...</td>\n",
       "      <td>...</td>\n",
       "      <td>...</td>\n",
       "      <td>...</td>\n",
       "      <td>...</td>\n",
       "    </tr>\n",
       "    <tr>\n",
       "      <th>995</th>\n",
       "      <td>17.289552</td>\n",
       "      <td>59.417309</td>\n",
       "      <td>17.305915</td>\n",
       "      <td>497.896331</td>\n",
       "      <td>453.828793</td>\n",
       "    </tr>\n",
       "    <tr>\n",
       "      <th>996</th>\n",
       "      <td>37.932839</td>\n",
       "      <td>77.396877</td>\n",
       "      <td>3.145464</td>\n",
       "      <td>400.961061</td>\n",
       "      <td>103.721455</td>\n",
       "    </tr>\n",
       "    <tr>\n",
       "      <th>997</th>\n",
       "      <td>18.420466</td>\n",
       "      <td>24.137481</td>\n",
       "      <td>6.195757</td>\n",
       "      <td>455.115084</td>\n",
       "      <td>197.529277</td>\n",
       "    </tr>\n",
       "    <tr>\n",
       "      <th>998</th>\n",
       "      <td>38.755934</td>\n",
       "      <td>23.423283</td>\n",
       "      <td>5.800911</td>\n",
       "      <td>576.946528</td>\n",
       "      <td>417.085421</td>\n",
       "    </tr>\n",
       "    <tr>\n",
       "      <th>999</th>\n",
       "      <td>26.150144</td>\n",
       "      <td>36.931224</td>\n",
       "      <td>17.428281</td>\n",
       "      <td>245.230623</td>\n",
       "      <td>318.790570</td>\n",
       "    </tr>\n",
       "  </tbody>\n",
       "</table>\n",
       "<p>1000 rows × 5 columns</p>\n",
       "</div>"
      ],
      "text/plain": [
       "     temperature   humidity  wind_speed  solar_irradiance  energy_consumption\n",
       "0      24.363503  31.107976    5.234114        705.432695          307.398145\n",
       "1      38.767858  52.514057    4.939576        817.013258          412.444548\n",
       "2      33.299849  72.376750   18.125092        325.421109          392.072418\n",
       "3      29.966462  63.933493    4.990924        662.386690          119.254957\n",
       "4      18.900466  68.393669    5.438995        614.571385          117.162261\n",
       "..           ...        ...         ...               ...                 ...\n",
       "995    17.289552  59.417309   17.305915        497.896331          453.828793\n",
       "996    37.932839  77.396877    3.145464        400.961061          103.721455\n",
       "997    18.420466  24.137481    6.195757        455.115084          197.529277\n",
       "998    38.755934  23.423283    5.800911        576.946528          417.085421\n",
       "999    26.150144  36.931224   17.428281        245.230623          318.790570\n",
       "\n",
       "[1000 rows x 5 columns]"
      ]
     },
     "execution_count": 66,
     "metadata": {},
     "output_type": "execute_result"
    }
   ],
   "source": [
    "energy"
   ]
  },
  {
   "cell_type": "code",
   "execution_count": 67,
   "id": "eaeffb46",
   "metadata": {},
   "outputs": [],
   "source": [
    "X = energy[['temperature', 'humidity', 'wind_speed', 'solar_irradiance']]\n",
    "y = energy['energy_consumption']"
   ]
  },
  {
   "cell_type": "code",
   "execution_count": 68,
   "id": "2fbba37e",
   "metadata": {},
   "outputs": [],
   "source": [
    "X_train, X_test, y_train, y_test = train_test_split(X, y, test_size=0.2, random_state=42)"
   ]
  },
  {
   "cell_type": "code",
   "execution_count": 69,
   "id": "97f23ceb",
   "metadata": {},
   "outputs": [],
   "source": [
    "scaler = StandardScaler()\n",
    "X_train_scaled = scaler.fit_transform(X_train)\n",
    "X_test_scaled = scaler.transform(X_test)"
   ]
  },
  {
   "cell_type": "code",
   "execution_count": 70,
   "id": "b5751846",
   "metadata": {},
   "outputs": [],
   "source": [
    "model = Sequential(\n",
    "    [\n",
    "        Dense(64, activation='relu', input_shape=(X_train.shape[1],)),\n",
    "        Dense(32, activation='relu'),\n",
    "        Dense(1)\n",
    "    ]\n",
    ")"
   ]
  },
  {
   "cell_type": "code",
   "execution_count": 71,
   "id": "b776ed41",
   "metadata": {},
   "outputs": [],
   "source": [
    "model.compile(optimizer='adam', loss='mse', metrics=['mae'])\n"
   ]
  },
  {
   "cell_type": "code",
   "execution_count": 72,
   "id": "bff746ae",
   "metadata": {},
   "outputs": [
    {
     "name": "stdout",
     "output_type": "stream",
     "text": [
      "Epoch 1/50\n",
      "20/20 [==============================] - 1s 8ms/step - loss: 53826.9141 - mae: 194.1474 - val_loss: 26510.7305 - val_mae: 128.4060\n",
      "Epoch 2/50\n",
      "20/20 [==============================] - 0s 2ms/step - loss: 32153.9727 - mae: 148.4874 - val_loss: 27141.5254 - val_mae: 133.9663\n",
      "Epoch 3/50\n",
      "20/20 [==============================] - 0s 2ms/step - loss: 29995.9414 - mae: 143.8109 - val_loss: 24374.9727 - val_mae: 125.6071\n",
      "Epoch 4/50\n",
      "20/20 [==============================] - 0s 2ms/step - loss: 28636.2285 - mae: 140.5389 - val_loss: 23651.4883 - val_mae: 125.3828\n",
      "Epoch 5/50\n",
      "20/20 [==============================] - 0s 2ms/step - loss: 27138.5117 - mae: 137.4554 - val_loss: 22385.1836 - val_mae: 121.9921\n",
      "Epoch 6/50\n",
      "20/20 [==============================] - 0s 2ms/step - loss: 25635.0645 - mae: 134.3253 - val_loss: 21087.7148 - val_mae: 118.8345\n",
      "Epoch 7/50\n",
      "20/20 [==============================] - 0s 2ms/step - loss: 23933.2930 - mae: 130.4084 - val_loss: 20429.6133 - val_mae: 118.8178\n",
      "Epoch 8/50\n",
      "20/20 [==============================] - 0s 2ms/step - loss: 22394.5391 - mae: 127.1453 - val_loss: 19240.4590 - val_mae: 115.4693\n",
      "Epoch 9/50\n",
      "20/20 [==============================] - 0s 2ms/step - loss: 21314.9941 - mae: 124.2086 - val_loss: 18839.2109 - val_mae: 114.4978\n",
      "Epoch 10/50\n",
      "20/20 [==============================] - 0s 2ms/step - loss: 20844.3164 - mae: 123.5376 - val_loss: 18676.9570 - val_mae: 115.2346\n",
      "Epoch 11/50\n",
      "20/20 [==============================] - 0s 4ms/step - loss: 20232.9688 - mae: 121.7921 - val_loss: 18537.7148 - val_mae: 114.7601\n",
      "Epoch 12/50\n",
      "20/20 [==============================] - 0s 4ms/step - loss: 19949.9668 - mae: 120.8611 - val_loss: 19062.0371 - val_mae: 117.1466\n",
      "Epoch 13/50\n",
      "20/20 [==============================] - 0s 2ms/step - loss: 20079.5586 - mae: 121.3886 - val_loss: 18656.3164 - val_mae: 116.0363\n",
      "Epoch 14/50\n",
      "20/20 [==============================] - 0s 3ms/step - loss: 19697.7617 - mae: 120.1329 - val_loss: 18495.9805 - val_mae: 115.3583\n",
      "Epoch 15/50\n",
      "20/20 [==============================] - 0s 3ms/step - loss: 19741.1660 - mae: 120.2047 - val_loss: 18262.6250 - val_mae: 114.3736\n",
      "Epoch 16/50\n",
      "20/20 [==============================] - 0s 2ms/step - loss: 19569.1445 - mae: 119.7087 - val_loss: 18255.5664 - val_mae: 114.6699\n",
      "Epoch 17/50\n",
      "20/20 [==============================] - 0s 3ms/step - loss: 19591.6094 - mae: 119.7267 - val_loss: 18352.9023 - val_mae: 114.6438\n",
      "Epoch 18/50\n",
      "20/20 [==============================] - 0s 2ms/step - loss: 19534.3301 - mae: 119.7435 - val_loss: 18208.6758 - val_mae: 114.7154\n",
      "Epoch 19/50\n",
      "20/20 [==============================] - 0s 2ms/step - loss: 19431.7910 - mae: 119.6033 - val_loss: 18235.2188 - val_mae: 114.7090\n",
      "Epoch 20/50\n",
      "20/20 [==============================] - 0s 2ms/step - loss: 19424.6758 - mae: 119.2989 - val_loss: 18359.9746 - val_mae: 115.0433\n",
      "Epoch 21/50\n",
      "20/20 [==============================] - 0s 2ms/step - loss: 19372.1035 - mae: 119.3035 - val_loss: 18196.0410 - val_mae: 114.6183\n",
      "Epoch 22/50\n",
      "20/20 [==============================] - 0s 2ms/step - loss: 19377.0039 - mae: 119.3482 - val_loss: 18144.3125 - val_mae: 114.4391\n",
      "Epoch 23/50\n",
      "20/20 [==============================] - 0s 2ms/step - loss: 19565.8574 - mae: 119.7296 - val_loss: 18037.3516 - val_mae: 113.9438\n",
      "Epoch 24/50\n",
      "20/20 [==============================] - 0s 2ms/step - loss: 19346.7188 - mae: 119.3191 - val_loss: 18487.7227 - val_mae: 115.9391\n",
      "Epoch 25/50\n",
      "20/20 [==============================] - 0s 2ms/step - loss: 19291.1035 - mae: 119.0717 - val_loss: 18077.6289 - val_mae: 114.2527\n",
      "Epoch 26/50\n",
      "20/20 [==============================] - 0s 2ms/step - loss: 19421.3965 - mae: 118.9794 - val_loss: 18563.7617 - val_mae: 116.3519\n",
      "Epoch 27/50\n",
      "20/20 [==============================] - 0s 2ms/step - loss: 19329.6641 - mae: 118.9351 - val_loss: 18566.6250 - val_mae: 116.2799\n",
      "Epoch 28/50\n",
      "20/20 [==============================] - 0s 2ms/step - loss: 19672.0742 - mae: 120.2941 - val_loss: 18105.0977 - val_mae: 114.6546\n",
      "Epoch 29/50\n",
      "20/20 [==============================] - 0s 2ms/step - loss: 19471.7598 - mae: 119.7364 - val_loss: 18432.4629 - val_mae: 115.9318\n",
      "Epoch 30/50\n",
      "20/20 [==============================] - 0s 2ms/step - loss: 19462.7363 - mae: 119.8662 - val_loss: 18433.9258 - val_mae: 115.9262\n",
      "Epoch 31/50\n",
      "20/20 [==============================] - 0s 2ms/step - loss: 19346.0195 - mae: 118.9150 - val_loss: 18060.1797 - val_mae: 113.4477\n",
      "Epoch 32/50\n",
      "20/20 [==============================] - 0s 2ms/step - loss: 19170.8867 - mae: 118.4877 - val_loss: 18151.2832 - val_mae: 114.8578\n",
      "Epoch 33/50\n",
      "20/20 [==============================] - 0s 2ms/step - loss: 19131.0820 - mae: 118.7820 - val_loss: 18103.5059 - val_mae: 114.6262\n",
      "Epoch 34/50\n",
      "20/20 [==============================] - 0s 2ms/step - loss: 19181.5430 - mae: 118.9875 - val_loss: 18133.9590 - val_mae: 114.8785\n",
      "Epoch 35/50\n",
      "20/20 [==============================] - 0s 2ms/step - loss: 19096.5039 - mae: 118.3780 - val_loss: 18052.6602 - val_mae: 114.0269\n",
      "Epoch 36/50\n",
      "20/20 [==============================] - 0s 2ms/step - loss: 19062.8105 - mae: 118.3944 - val_loss: 18117.5586 - val_mae: 114.8551\n",
      "Epoch 37/50\n",
      "20/20 [==============================] - 0s 2ms/step - loss: 19028.8438 - mae: 118.2440 - val_loss: 18150.9766 - val_mae: 114.8324\n",
      "Epoch 38/50\n",
      "20/20 [==============================] - 0s 3ms/step - loss: 19010.0371 - mae: 118.3197 - val_loss: 17951.1348 - val_mae: 114.1458\n",
      "Epoch 39/50\n",
      "20/20 [==============================] - 0s 2ms/step - loss: 18977.9492 - mae: 118.2334 - val_loss: 18588.0898 - val_mae: 116.6164\n",
      "Epoch 40/50\n",
      "20/20 [==============================] - 0s 2ms/step - loss: 19033.8594 - mae: 118.2585 - val_loss: 18130.2461 - val_mae: 113.4213\n",
      "Epoch 41/50\n",
      "20/20 [==============================] - 0s 2ms/step - loss: 19475.8691 - mae: 119.4698 - val_loss: 17917.0410 - val_mae: 113.1687\n",
      "Epoch 42/50\n",
      "20/20 [==============================] - 0s 2ms/step - loss: 19218.1934 - mae: 118.5920 - val_loss: 17803.0840 - val_mae: 113.3600\n",
      "Epoch 43/50\n",
      "20/20 [==============================] - 0s 2ms/step - loss: 19102.2168 - mae: 118.7847 - val_loss: 18427.8477 - val_mae: 116.1879\n",
      "Epoch 44/50\n",
      "20/20 [==============================] - 0s 2ms/step - loss: 19084.9863 - mae: 118.2278 - val_loss: 18092.2031 - val_mae: 114.7654\n",
      "Epoch 45/50\n",
      "20/20 [==============================] - 0s 2ms/step - loss: 19030.0723 - mae: 118.5052 - val_loss: 18018.1035 - val_mae: 114.2906\n",
      "Epoch 46/50\n",
      "20/20 [==============================] - 0s 2ms/step - loss: 19015.6992 - mae: 118.2009 - val_loss: 18304.4688 - val_mae: 115.7461\n",
      "Epoch 47/50\n",
      "20/20 [==============================] - 0s 3ms/step - loss: 19037.9570 - mae: 117.7908 - val_loss: 18398.8184 - val_mae: 116.1031\n",
      "Epoch 48/50\n",
      "20/20 [==============================] - 0s 4ms/step - loss: 19150.5762 - mae: 118.7698 - val_loss: 18062.8223 - val_mae: 112.8886\n",
      "Epoch 49/50\n",
      "20/20 [==============================] - 0s 3ms/step - loss: 19215.4648 - mae: 118.5098 - val_loss: 18082.0352 - val_mae: 114.8760\n",
      "Epoch 50/50\n",
      "20/20 [==============================] - 0s 2ms/step - loss: 18997.1152 - mae: 117.8043 - val_loss: 18510.5312 - val_mae: 116.4783\n"
     ]
    }
   ],
   "source": [
    "energy_model = model.fit(X_train, y_train, epochs = 50, batch_size=32, verbose=1, validation_split=0.2)"
   ]
  },
  {
   "cell_type": "code",
   "execution_count": 77,
   "id": "ace6a371",
   "metadata": {},
   "outputs": [
    {
     "name": "stdout",
     "output_type": "stream",
     "text": [
      "7/7 [==============================] - 0s 1ms/step\n"
     ]
    }
   ],
   "source": [
    "predictions = model.predict(X_test_scaled)\n"
   ]
  },
  {
   "cell_type": "code",
   "execution_count": 78,
   "id": "8f0a9544",
   "metadata": {},
   "outputs": [
    {
     "name": "stdout",
     "output_type": "stream",
     "text": [
      "7/7 [==============================] - 0s 1ms/step - loss: 94048.8516 - mae: 278.0309\n",
      "Test accuracy: 278.0309\n"
     ]
    }
   ],
   "source": [
    "test_loss, test_acc = model.evaluate(X_test_scaled, y_test)\n",
    "print(f\"Test accuracy: {test_acc:.4f}\")"
   ]
  }
 ],
 "metadata": {
  "kernelspec": {
   "display_name": "Python 3",
   "language": "python",
   "name": "python3"
  },
  "language_info": {
   "codemirror_mode": {
    "name": "ipython",
    "version": 3
   },
   "file_extension": ".py",
   "mimetype": "text/x-python",
   "name": "python",
   "nbconvert_exporter": "python",
   "pygments_lexer": "ipython3",
   "version": "3.11.9"
  }
 },
 "nbformat": 4,
 "nbformat_minor": 5
}
