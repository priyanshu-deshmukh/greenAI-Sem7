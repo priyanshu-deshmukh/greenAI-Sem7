{
 "cells": [
  {
   "cell_type": "code",
   "execution_count": null,
   "id": "46a7f023",
   "metadata": {},
   "outputs": [],
   "source": [
    "import numpy as np"
   ]
  },
  {
   "cell_type": "code",
   "execution_count": null,
   "id": "d12b52cb",
   "metadata": {},
   "outputs": [],
   "source": [
    "# 1D array with at least 15 elements\n",
    "array_1d = np.arange(1, 16)"
   ]
  },
  {
   "cell_type": "code",
   "execution_count": null,
   "id": "e1d18266",
   "metadata": {},
   "outputs": [],
   "source": [
    "# 2D array with at least 4 rows and 5 columns\n",
    "array_2d = np.arange(1, 21).reshape(4, 5)"
   ]
  },
  {
   "cell_type": "code",
   "execution_count": null,
   "id": "d55cd07a",
   "metadata": {},
   "outputs": [],
   "source": [
    "# 3D array with 2 matrices, each with 3 rows and 4 columns\n",
    "array_3d = np.arange(1, 25).reshape(2, 3, 4)"
   ]
  },
  {
   "cell_type": "markdown",
   "id": "3c158d08",
   "metadata": {},
   "source": [
    "Slicing 1-d array"
   ]
  },
  {
   "cell_type": "code",
   "execution_count": null,
   "id": "89e4cf4e",
   "metadata": {},
   "outputs": [],
   "source": [
    "slice_1d_1 = array_1d[0:5]          # First 5 elements\n",
    "slice_1d_2 = array_1d[5:10]         # Middle 5 elements\n",
    "slice_1d_3 = array_1d[::2]          # Every 2nd element\n",
    "slice_1d_4 = array_1d[1::3]         # Every 3rd element starting from index 1\n",
    "slice_1d_5 = array_1d[::-1]         # Reversed array (negative slicing)"
   ]
  },
  {
   "cell_type": "markdown",
   "id": "ac508642",
   "metadata": {},
   "source": [
    "Slicing 2D array"
   ]
  },
  {
   "cell_type": "code",
   "execution_count": null,
   "id": "9c838909",
   "metadata": {},
   "outputs": [],
   "source": [
    "slice_2d_1 = array_2d[1]            # Second row\n",
    "slice_2d_2 = array_2d[:, 2]         # Third column\n",
    "slice_2d_3 = array_2d[1:3, 2:5]     # Rows 1-2 and Columns 2-4\n",
    "slice_2d_4 = array_2d[::-1]         # Reversed rows\n",
    "slice_2d_5 = array_2d[:, ::-1]      # Reversed columns"
   ]
  },
  {
   "cell_type": "markdown",
   "id": "a7b56854",
   "metadata": {},
   "source": [
    "Slicing 3D array"
   ]
  },
  {
   "cell_type": "code",
   "execution_count": null,
   "id": "37f83fa7",
   "metadata": {},
   "outputs": [],
   "source": [
    "slice_3d_1 = array_3d[0]            # First matrix\n",
    "slice_3d_2 = array_3d[1, 1]         # Second matrix, second row\n",
    "slice_3d_3 = array_3d[1, 1, 2]      # Specific element: matrix 1, row 1, col 2\n",
    "slice_3d_4 = array_3d[::-1]         # Reverse matrices\n",
    "slice_3d_5 = array_3d[:, ::-1]      # Reverse rows in each matrix\n",
    "slice_3d_6 = array_3d[:, :, ::-1]   # Reverse columns in each row of each matrix"
   ]
  }
 ],
 "metadata": {
  "language_info": {
   "name": "python"
  }
 },
 "nbformat": 4,
 "nbformat_minor": 5
}
