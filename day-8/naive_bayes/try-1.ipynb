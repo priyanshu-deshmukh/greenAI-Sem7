{
 "cells": [
  {
   "cell_type": "code",
   "execution_count": 47,
   "id": "e71faf12",
   "metadata": {},
   "outputs": [],
   "source": [
    "import pandas as pd\n",
    "import numpy as np\n",
    "from sklearn.model_selection import train_test_split\n",
    "from sklearn.naive_bayes import GaussianNB\n",
    "from sklearn.metrics import accuracy_score, confusion_matrix, classification_report\n",
    "import seaborn as sns\n",
    "import matplotlib.pyplot as plt"
   ]
  },
  {
   "cell_type": "code",
   "execution_count": 48,
   "id": "4ee5afa3",
   "metadata": {},
   "outputs": [
    {
     "data": {
      "text/html": [
       "<div>\n",
       "<style scoped>\n",
       "    .dataframe tbody tr th:only-of-type {\n",
       "        vertical-align: middle;\n",
       "    }\n",
       "\n",
       "    .dataframe tbody tr th {\n",
       "        vertical-align: top;\n",
       "    }\n",
       "\n",
       "    .dataframe thead th {\n",
       "        text-align: right;\n",
       "    }\n",
       "</style>\n",
       "<table border=\"1\" class=\"dataframe\">\n",
       "  <thead>\n",
       "    <tr style=\"text-align: right;\">\n",
       "      <th></th>\n",
       "      <th>water_quality</th>\n",
       "      <th>air_quality_index</th>\n",
       "      <th>biodiversity_index</th>\n",
       "      <th>vegetation_cover</th>\n",
       "      <th>soil_ph</th>\n",
       "      <th>ecosystem_health</th>\n",
       "    </tr>\n",
       "  </thead>\n",
       "  <tbody>\n",
       "    <tr>\n",
       "      <th>0</th>\n",
       "      <td>37.454012</td>\n",
       "      <td>112.092246</td>\n",
       "      <td>0.729998</td>\n",
       "      <td>63.814457</td>\n",
       "      <td>5.144016</td>\n",
       "      <td>degraded</td>\n",
       "    </tr>\n",
       "    <tr>\n",
       "      <th>1</th>\n",
       "      <td>95.071431</td>\n",
       "      <td>99.873629</td>\n",
       "      <td>0.184512</td>\n",
       "      <td>45.929245</td>\n",
       "      <td>4.021498</td>\n",
       "      <td>degraded</td>\n",
       "    </tr>\n",
       "    <tr>\n",
       "      <th>2</th>\n",
       "      <td>73.199394</td>\n",
       "      <td>52.846174</td>\n",
       "      <td>0.346640</td>\n",
       "      <td>96.449852</td>\n",
       "      <td>4.194976</td>\n",
       "      <td>degraded</td>\n",
       "    </tr>\n",
       "    <tr>\n",
       "      <th>3</th>\n",
       "      <td>59.865848</td>\n",
       "      <td>182.180001</td>\n",
       "      <td>0.663281</td>\n",
       "      <td>21.897845</td>\n",
       "      <td>4.493691</td>\n",
       "      <td>degraded</td>\n",
       "    </tr>\n",
       "    <tr>\n",
       "      <th>4</th>\n",
       "      <td>15.601864</td>\n",
       "      <td>142.987248</td>\n",
       "      <td>0.482089</td>\n",
       "      <td>58.785642</td>\n",
       "      <td>4.620093</td>\n",
       "      <td>degraded</td>\n",
       "    </tr>\n",
       "    <tr>\n",
       "      <th>...</th>\n",
       "      <td>...</td>\n",
       "      <td>...</td>\n",
       "      <td>...</td>\n",
       "      <td>...</td>\n",
       "      <td>...</td>\n",
       "      <td>...</td>\n",
       "    </tr>\n",
       "    <tr>\n",
       "      <th>9995</th>\n",
       "      <td>85.765599</td>\n",
       "      <td>263.111589</td>\n",
       "      <td>0.952275</td>\n",
       "      <td>75.403391</td>\n",
       "      <td>6.923449</td>\n",
       "      <td>degraded</td>\n",
       "    </tr>\n",
       "    <tr>\n",
       "      <th>9996</th>\n",
       "      <td>89.750884</td>\n",
       "      <td>14.044187</td>\n",
       "      <td>0.747824</td>\n",
       "      <td>76.452694</td>\n",
       "      <td>4.744065</td>\n",
       "      <td>at risk</td>\n",
       "    </tr>\n",
       "    <tr>\n",
       "      <th>9997</th>\n",
       "      <td>94.670792</td>\n",
       "      <td>91.109541</td>\n",
       "      <td>0.019456</td>\n",
       "      <td>26.956943</td>\n",
       "      <td>7.619473</td>\n",
       "      <td>degraded</td>\n",
       "    </tr>\n",
       "    <tr>\n",
       "      <th>9998</th>\n",
       "      <td>39.748799</td>\n",
       "      <td>132.996002</td>\n",
       "      <td>0.401005</td>\n",
       "      <td>43.431977</td>\n",
       "      <td>6.365560</td>\n",
       "      <td>degraded</td>\n",
       "    </tr>\n",
       "    <tr>\n",
       "      <th>9999</th>\n",
       "      <td>21.714040</td>\n",
       "      <td>51.679444</td>\n",
       "      <td>0.257398</td>\n",
       "      <td>48.742370</td>\n",
       "      <td>8.239387</td>\n",
       "      <td>degraded</td>\n",
       "    </tr>\n",
       "  </tbody>\n",
       "</table>\n",
       "<p>10000 rows × 6 columns</p>\n",
       "</div>"
      ],
      "text/plain": [
       "      water_quality  air_quality_index  biodiversity_index  vegetation_cover  \\\n",
       "0         37.454012         112.092246            0.729998         63.814457   \n",
       "1         95.071431          99.873629            0.184512         45.929245   \n",
       "2         73.199394          52.846174            0.346640         96.449852   \n",
       "3         59.865848         182.180001            0.663281         21.897845   \n",
       "4         15.601864         142.987248            0.482089         58.785642   \n",
       "...             ...                ...                 ...               ...   \n",
       "9995      85.765599         263.111589            0.952275         75.403391   \n",
       "9996      89.750884          14.044187            0.747824         76.452694   \n",
       "9997      94.670792          91.109541            0.019456         26.956943   \n",
       "9998      39.748799         132.996002            0.401005         43.431977   \n",
       "9999      21.714040          51.679444            0.257398         48.742370   \n",
       "\n",
       "       soil_ph ecosystem_health  \n",
       "0     5.144016         degraded  \n",
       "1     4.021498         degraded  \n",
       "2     4.194976         degraded  \n",
       "3     4.493691         degraded  \n",
       "4     4.620093         degraded  \n",
       "...        ...              ...  \n",
       "9995  6.923449         degraded  \n",
       "9996  4.744065          at risk  \n",
       "9997  7.619473         degraded  \n",
       "9998  6.365560         degraded  \n",
       "9999  8.239387         degraded  \n",
       "\n",
       "[10000 rows x 6 columns]"
      ]
     },
     "execution_count": 48,
     "metadata": {},
     "output_type": "execute_result"
    }
   ],
   "source": [
    "#load the dataset\n",
    "data = pd.read_csv(r'C:\\Users\\priya\\OneDrive\\Desktop\\greenAI\\day-8\\naive_bayes\\ecosystem_data.csv')\n",
    "data"
   ]
  },
  {
   "cell_type": "code",
   "execution_count": 49,
   "id": "23609a02",
   "metadata": {},
   "outputs": [
    {
     "data": {
      "text/plain": [
       "array(['degraded', 'at risk', 'healthy'], dtype=object)"
      ]
     },
     "execution_count": 49,
     "metadata": {},
     "output_type": "execute_result"
    }
   ],
   "source": [
    "data['ecosystem_health'].unique()"
   ]
  },
  {
   "cell_type": "code",
   "execution_count": 50,
   "id": "4c133d91",
   "metadata": {},
   "outputs": [],
   "source": [
    "data['ecosystem_health'] = data['ecosystem_health'].map({'healthy': 1, 'at risk': 0, 'degraded': 2})"
   ]
  },
  {
   "cell_type": "code",
   "execution_count": 51,
   "id": "9784be74",
   "metadata": {},
   "outputs": [
    {
     "data": {
      "text/html": [
       "<div>\n",
       "<style scoped>\n",
       "    .dataframe tbody tr th:only-of-type {\n",
       "        vertical-align: middle;\n",
       "    }\n",
       "\n",
       "    .dataframe tbody tr th {\n",
       "        vertical-align: top;\n",
       "    }\n",
       "\n",
       "    .dataframe thead th {\n",
       "        text-align: right;\n",
       "    }\n",
       "</style>\n",
       "<table border=\"1\" class=\"dataframe\">\n",
       "  <thead>\n",
       "    <tr style=\"text-align: right;\">\n",
       "      <th></th>\n",
       "      <th>water_quality</th>\n",
       "      <th>air_quality_index</th>\n",
       "      <th>biodiversity_index</th>\n",
       "      <th>vegetation_cover</th>\n",
       "      <th>soil_ph</th>\n",
       "      <th>ecosystem_health</th>\n",
       "    </tr>\n",
       "  </thead>\n",
       "  <tbody>\n",
       "    <tr>\n",
       "      <th>0</th>\n",
       "      <td>37.454012</td>\n",
       "      <td>112.092246</td>\n",
       "      <td>0.729998</td>\n",
       "      <td>63.814457</td>\n",
       "      <td>5.144016</td>\n",
       "      <td>2</td>\n",
       "    </tr>\n",
       "    <tr>\n",
       "      <th>1</th>\n",
       "      <td>95.071431</td>\n",
       "      <td>99.873629</td>\n",
       "      <td>0.184512</td>\n",
       "      <td>45.929245</td>\n",
       "      <td>4.021498</td>\n",
       "      <td>2</td>\n",
       "    </tr>\n",
       "    <tr>\n",
       "      <th>2</th>\n",
       "      <td>73.199394</td>\n",
       "      <td>52.846174</td>\n",
       "      <td>0.346640</td>\n",
       "      <td>96.449852</td>\n",
       "      <td>4.194976</td>\n",
       "      <td>2</td>\n",
       "    </tr>\n",
       "    <tr>\n",
       "      <th>3</th>\n",
       "      <td>59.865848</td>\n",
       "      <td>182.180001</td>\n",
       "      <td>0.663281</td>\n",
       "      <td>21.897845</td>\n",
       "      <td>4.493691</td>\n",
       "      <td>2</td>\n",
       "    </tr>\n",
       "    <tr>\n",
       "      <th>4</th>\n",
       "      <td>15.601864</td>\n",
       "      <td>142.987248</td>\n",
       "      <td>0.482089</td>\n",
       "      <td>58.785642</td>\n",
       "      <td>4.620093</td>\n",
       "      <td>2</td>\n",
       "    </tr>\n",
       "    <tr>\n",
       "      <th>...</th>\n",
       "      <td>...</td>\n",
       "      <td>...</td>\n",
       "      <td>...</td>\n",
       "      <td>...</td>\n",
       "      <td>...</td>\n",
       "      <td>...</td>\n",
       "    </tr>\n",
       "    <tr>\n",
       "      <th>9995</th>\n",
       "      <td>85.765599</td>\n",
       "      <td>263.111589</td>\n",
       "      <td>0.952275</td>\n",
       "      <td>75.403391</td>\n",
       "      <td>6.923449</td>\n",
       "      <td>2</td>\n",
       "    </tr>\n",
       "    <tr>\n",
       "      <th>9996</th>\n",
       "      <td>89.750884</td>\n",
       "      <td>14.044187</td>\n",
       "      <td>0.747824</td>\n",
       "      <td>76.452694</td>\n",
       "      <td>4.744065</td>\n",
       "      <td>0</td>\n",
       "    </tr>\n",
       "    <tr>\n",
       "      <th>9997</th>\n",
       "      <td>94.670792</td>\n",
       "      <td>91.109541</td>\n",
       "      <td>0.019456</td>\n",
       "      <td>26.956943</td>\n",
       "      <td>7.619473</td>\n",
       "      <td>2</td>\n",
       "    </tr>\n",
       "    <tr>\n",
       "      <th>9998</th>\n",
       "      <td>39.748799</td>\n",
       "      <td>132.996002</td>\n",
       "      <td>0.401005</td>\n",
       "      <td>43.431977</td>\n",
       "      <td>6.365560</td>\n",
       "      <td>2</td>\n",
       "    </tr>\n",
       "    <tr>\n",
       "      <th>9999</th>\n",
       "      <td>21.714040</td>\n",
       "      <td>51.679444</td>\n",
       "      <td>0.257398</td>\n",
       "      <td>48.742370</td>\n",
       "      <td>8.239387</td>\n",
       "      <td>2</td>\n",
       "    </tr>\n",
       "  </tbody>\n",
       "</table>\n",
       "<p>10000 rows × 6 columns</p>\n",
       "</div>"
      ],
      "text/plain": [
       "      water_quality  air_quality_index  biodiversity_index  vegetation_cover  \\\n",
       "0         37.454012         112.092246            0.729998         63.814457   \n",
       "1         95.071431          99.873629            0.184512         45.929245   \n",
       "2         73.199394          52.846174            0.346640         96.449852   \n",
       "3         59.865848         182.180001            0.663281         21.897845   \n",
       "4         15.601864         142.987248            0.482089         58.785642   \n",
       "...             ...                ...                 ...               ...   \n",
       "9995      85.765599         263.111589            0.952275         75.403391   \n",
       "9996      89.750884          14.044187            0.747824         76.452694   \n",
       "9997      94.670792          91.109541            0.019456         26.956943   \n",
       "9998      39.748799         132.996002            0.401005         43.431977   \n",
       "9999      21.714040          51.679444            0.257398         48.742370   \n",
       "\n",
       "       soil_ph  ecosystem_health  \n",
       "0     5.144016                 2  \n",
       "1     4.021498                 2  \n",
       "2     4.194976                 2  \n",
       "3     4.493691                 2  \n",
       "4     4.620093                 2  \n",
       "...        ...               ...  \n",
       "9995  6.923449                 2  \n",
       "9996  4.744065                 0  \n",
       "9997  7.619473                 2  \n",
       "9998  6.365560                 2  \n",
       "9999  8.239387                 2  \n",
       "\n",
       "[10000 rows x 6 columns]"
      ]
     },
     "execution_count": 51,
     "metadata": {},
     "output_type": "execute_result"
    }
   ],
   "source": [
    "data"
   ]
  },
  {
   "cell_type": "code",
   "execution_count": 52,
   "id": "effa33f4",
   "metadata": {},
   "outputs": [],
   "source": [
    "X = data[['water_quality', 'air_quality_index', 'biodiversity_index', 'vegetation_cover', 'soil_ph']]\n",
    "y = data['ecosystem_health']\n",
    "X_train, X_test, y_train, y_test = train_test_split(X, y, test_size=0.2, random_state=42)\n",
    "\n"
   ]
  },
  {
   "cell_type": "code",
   "execution_count": 53,
   "id": "1d8efbb2",
   "metadata": {},
   "outputs": [
    {
     "data": {
      "text/html": [
       "<style>#sk-container-id-3 {color: black;}#sk-container-id-3 pre{padding: 0;}#sk-container-id-3 div.sk-toggleable {background-color: white;}#sk-container-id-3 label.sk-toggleable__label {cursor: pointer;display: block;width: 100%;margin-bottom: 0;padding: 0.3em;box-sizing: border-box;text-align: center;}#sk-container-id-3 label.sk-toggleable__label-arrow:before {content: \"▸\";float: left;margin-right: 0.25em;color: #696969;}#sk-container-id-3 label.sk-toggleable__label-arrow:hover:before {color: black;}#sk-container-id-3 div.sk-estimator:hover label.sk-toggleable__label-arrow:before {color: black;}#sk-container-id-3 div.sk-toggleable__content {max-height: 0;max-width: 0;overflow: hidden;text-align: left;background-color: #f0f8ff;}#sk-container-id-3 div.sk-toggleable__content pre {margin: 0.2em;color: black;border-radius: 0.25em;background-color: #f0f8ff;}#sk-container-id-3 input.sk-toggleable__control:checked~div.sk-toggleable__content {max-height: 200px;max-width: 100%;overflow: auto;}#sk-container-id-3 input.sk-toggleable__control:checked~label.sk-toggleable__label-arrow:before {content: \"▾\";}#sk-container-id-3 div.sk-estimator input.sk-toggleable__control:checked~label.sk-toggleable__label {background-color: #d4ebff;}#sk-container-id-3 div.sk-label input.sk-toggleable__control:checked~label.sk-toggleable__label {background-color: #d4ebff;}#sk-container-id-3 input.sk-hidden--visually {border: 0;clip: rect(1px 1px 1px 1px);clip: rect(1px, 1px, 1px, 1px);height: 1px;margin: -1px;overflow: hidden;padding: 0;position: absolute;width: 1px;}#sk-container-id-3 div.sk-estimator {font-family: monospace;background-color: #f0f8ff;border: 1px dotted black;border-radius: 0.25em;box-sizing: border-box;margin-bottom: 0.5em;}#sk-container-id-3 div.sk-estimator:hover {background-color: #d4ebff;}#sk-container-id-3 div.sk-parallel-item::after {content: \"\";width: 100%;border-bottom: 1px solid gray;flex-grow: 1;}#sk-container-id-3 div.sk-label:hover label.sk-toggleable__label {background-color: #d4ebff;}#sk-container-id-3 div.sk-serial::before {content: \"\";position: absolute;border-left: 1px solid gray;box-sizing: border-box;top: 0;bottom: 0;left: 50%;z-index: 0;}#sk-container-id-3 div.sk-serial {display: flex;flex-direction: column;align-items: center;background-color: white;padding-right: 0.2em;padding-left: 0.2em;position: relative;}#sk-container-id-3 div.sk-item {position: relative;z-index: 1;}#sk-container-id-3 div.sk-parallel {display: flex;align-items: stretch;justify-content: center;background-color: white;position: relative;}#sk-container-id-3 div.sk-item::before, #sk-container-id-3 div.sk-parallel-item::before {content: \"\";position: absolute;border-left: 1px solid gray;box-sizing: border-box;top: 0;bottom: 0;left: 50%;z-index: -1;}#sk-container-id-3 div.sk-parallel-item {display: flex;flex-direction: column;z-index: 1;position: relative;background-color: white;}#sk-container-id-3 div.sk-parallel-item:first-child::after {align-self: flex-end;width: 50%;}#sk-container-id-3 div.sk-parallel-item:last-child::after {align-self: flex-start;width: 50%;}#sk-container-id-3 div.sk-parallel-item:only-child::after {width: 0;}#sk-container-id-3 div.sk-dashed-wrapped {border: 1px dashed gray;margin: 0 0.4em 0.5em 0.4em;box-sizing: border-box;padding-bottom: 0.4em;background-color: white;}#sk-container-id-3 div.sk-label label {font-family: monospace;font-weight: bold;display: inline-block;line-height: 1.2em;}#sk-container-id-3 div.sk-label-container {text-align: center;}#sk-container-id-3 div.sk-container {/* jupyter's `normalize.less` sets `[hidden] { display: none; }` but bootstrap.min.css set `[hidden] { display: none !important; }` so we also need the `!important` here to be able to override the default hidden behavior on the sphinx rendered scikit-learn.org. See: https://github.com/scikit-learn/scikit-learn/issues/21755 */display: inline-block !important;position: relative;}#sk-container-id-3 div.sk-text-repr-fallback {display: none;}</style><div id=\"sk-container-id-3\" class=\"sk-top-container\"><div class=\"sk-text-repr-fallback\"><pre>GaussianNB()</pre><b>In a Jupyter environment, please rerun this cell to show the HTML representation or trust the notebook. <br />On GitHub, the HTML representation is unable to render, please try loading this page with nbviewer.org.</b></div><div class=\"sk-container\" hidden><div class=\"sk-item\"><div class=\"sk-estimator sk-toggleable\"><input class=\"sk-toggleable__control sk-hidden--visually\" id=\"sk-estimator-id-3\" type=\"checkbox\" checked><label for=\"sk-estimator-id-3\" class=\"sk-toggleable__label sk-toggleable__label-arrow\">GaussianNB</label><div class=\"sk-toggleable__content\"><pre>GaussianNB()</pre></div></div></div></div></div>"
      ],
      "text/plain": [
       "GaussianNB()"
      ]
     },
     "execution_count": 53,
     "metadata": {},
     "output_type": "execute_result"
    }
   ],
   "source": [
    "# Create and train the Gaussian Naive Bayes model\n",
    "model = GaussianNB()\n",
    "model.fit(X_train, y_train)\n"
   ]
  },
  {
   "cell_type": "code",
   "execution_count": 54,
   "id": "896dbaad",
   "metadata": {},
   "outputs": [],
   "source": [
    "# Make predictions on the test set\n",
    "y_pred = model.predict(X_test)\n"
   ]
  },
  {
   "cell_type": "code",
   "execution_count": 55,
   "id": "dd592a23",
   "metadata": {},
   "outputs": [
    {
     "name": "stdout",
     "output_type": "stream",
     "text": [
      "Accuracy: 0.95\n"
     ]
    }
   ],
   "source": [
    "# Evaluate the model\n",
    "accuracy = accuracy_score(y_test, y_pred)\n",
    "print(f'Accuracy: {accuracy:.2f}')"
   ]
  },
  {
   "cell_type": "code",
   "execution_count": null,
   "id": "b9d97d8e",
   "metadata": {},
   "outputs": [],
   "source": [
    "#prompt user to enter the values for the features and predict the ecosystem health\n",
    "def predict_ecosystem_health():\n",
    "    print(\"Enter the following values to predict ecosystem health:\")\n",
    "    wq = float(input(\"Water Quality (0-100): \"))\n",
    "    aq = float(input(\"Air Quality Index (0-300): \"))\n",
    "    bi = float(input(\"Biodiversity Index (0-1): \"))\n",
    "    vc = float(input(\"Vegetation Cover (%): \"))\n",
    "    sp = float(input(\"Soil pH (0-14): \"))\n",
    "\n",
    "    input_data = np.array([[wq, aq, bi, vc, sp]])\n",
    "    prediction = model.predict(input_data)\n",
    "    \n",
    "    health_status = {1: 'healthy', 0: 'at risk', 2: 'degraded'}\n",
    "    print(f'Predicted Ecosystem Health: {health_status[prediction[0]]}')\n",
    "\n"
   ]
  },
  {
   "cell_type": "code",
   "execution_count": 57,
   "id": "55452940",
   "metadata": {},
   "outputs": [
    {
     "name": "stdout",
     "output_type": "stream",
     "text": [
      "Enter the following values to predict ecosystem health:\n",
      "Predicted Ecosystem Health: degraded\n"
     ]
    },
    {
     "name": "stderr",
     "output_type": "stream",
     "text": [
      "c:\\Users\\priya\\AppData\\Local\\Programs\\Python\\Python311\\Lib\\site-packages\\sklearn\\base.py:465: UserWarning: X does not have valid feature names, but GaussianNB was fitted with feature names\n",
      "  warnings.warn(\n"
     ]
    }
   ],
   "source": [
    "# Call the function to predict ecosystem health\n",
    "predict_ecosystem_health()\n"
   ]
  },
  {
   "cell_type": "code",
   "execution_count": 58,
   "id": "ade4def4",
   "metadata": {},
   "outputs": [
    {
     "data": {
      "image/png": "[encoded data removed]",
      "text/plain": [
       "<Figure size 800x600 with 2 Axes>"
      ]
     },
     "metadata": {},
     "output_type": "display_data"
    }
   ],
   "source": [
    "# Display confusion matrix\n",
    "cm = confusion_matrix(y_test, y_pred)\n",
    "plt.figure(figsize=(8, 6))\n",
    "sns.heatmap(cm, annot=True, fmt='d', cmap='Blues', xticklabels=['Healthy', 'At Risk', 'Degraded'], yticklabels=['Healthy', 'At Risk', 'Degraded'])\n",
    "plt.title('Confusion Matrix')\n",
    "plt.xlabel('Predicted')\n",
    "plt.ylabel('Actual')\n",
    "plt.show()"
   ]
  },
  {
   "cell_type": "code",
   "execution_count": 59,
   "id": "b5270226",
   "metadata": {},
   "outputs": [
    {
     "data": {
      "text/plain": [
       "['ecosystem_health_model.pkl']"
      ]
     },
     "execution_count": 59,
     "metadata": {},
     "output_type": "execute_result"
    }
   ],
   "source": [
    "import joblib as jb\n",
    "jb.dump(model, 'ecosystem_health_model.pkl')"
   ]
  },
  {
   "cell_type": "code",
   "execution_count": null,
   "id": "395cf0f6",
   "metadata": {},
   "outputs": [],
   "source": [
    "import streamlit as st\n",
    "st.title(\"Ecosystem Health Prediction\")\n",
    "st.write(\"Enter the following values to predict ecosystem health:\")\n",
    "wq = st.number_input(\"Water Quality (0-100)\", min_value=0.0, max_value=100.0, step=1.0)\n",
    "aq = st.number_input(\"Air Quality Index (0-300)\", min_value=0.0, max_value=300.0, step=1.0)\n",
    "bi = st.number_input(\"Biodiversity Index (0-1)\", min_value=0.0, max_value=1.0, step=0.01)\n",
    "vc = st.number_input(\"Vegetation Cover (%)\", min_value=0.0, max_value=100.0, step=1.0)\n",
    "sp = st.number_input(\"Soil pH (0-14)\", min_value=0.0, max_value=14.0, step=0.1)\n",
    "if st.button(\"Predict Ecosystem Health\"):\n",
    "    input_data = np.array([[wq, aq, bi, vc, sp]])\n",
    "    prediction = model.predict(input_data)\n",
    "    \n",
    "    health_status = {1: 'healthy', 0: 'at risk', 2: 'degraded'}\n",
    "    st.write(f'Predicted Ecosystem Health: {health_status[prediction[0]]}')"
   ]
  }
 ],
 "metadata": {
  "kernelspec": {
   "display_name": "Python 3",
   "language": "python",
   "name": "python3"
  },
  "language_info": {
   "codemirror_mode": {
    "name": "ipython",
    "version": 3
   },
   "file_extension": ".py",
   "mimetype": "text/x-python",
   "name": "python",
   "nbconvert_exporter": "python",
   "pygments_lexer": "ipython3",
   "version": "3.11.9"
  }
 },
 "nbformat": 4,
 "nbformat_minor": 5
}
