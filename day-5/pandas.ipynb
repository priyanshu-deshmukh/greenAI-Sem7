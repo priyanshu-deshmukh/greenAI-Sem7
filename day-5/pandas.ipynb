{
 "cells": [
  {
   "cell_type": "code",
   "execution_count": 1,
   "id": "6191b87f",
   "metadata": {},
   "outputs": [
    {
     "name": "stdout",
     "output_type": "stream",
     "text": [
      "0    1\n",
      "1    2\n",
      "2    3\n",
      "3    4\n",
      "4    5\n",
      "dtype: int64\n",
      "a    1\n",
      "b    2\n",
      "c    3\n",
      "d    4\n",
      "e    5\n",
      "dtype: int64\n",
      "a    1\n",
      "b    2\n",
      "c    3\n",
      "d    4\n",
      "e    5\n",
      "dtype: int64\n",
      "1\n",
      "1\n"
     ]
    },
    {
     "name": "stderr",
     "output_type": "stream",
     "text": [
      "C:\\Users\\priya\\AppData\\Local\\Temp\\ipykernel_17404\\2378282909.py:18: FutureWarning: Series.__getitem__ treating keys as positions is deprecated. In a future version, integer keys will always be treated as labels (consistent with DataFrame behavior). To access a value by position, use `ser.iloc[pos]`\n",
      "  print(s[0])    # Access by position\n"
     ]
    }
   ],
   "source": [
    "#pandas liberary\n",
    "import pandas as pd\n",
    "\n",
    "#create pandas series form list\n",
    "s = pd.Series([1, 2, 3, 4, 5])\n",
    "print(s)\n",
    "\n",
    "#creating a pandas series witha a specified index\n",
    "s = pd.Series([1, 2, 3, 4, 5], index=['a', 'b', 'c', 'd', 'e'])\n",
    "print(s)\n",
    "\n",
    "#creating a pandas series from a dictionary\n",
    "s = pd.Series({'a': 1, 'b': 2, 'c': 3, 'd': 4, 'e': 5})\n",
    "print(s)\n",
    "\n",
    "#accessing elements in a pandas series\n",
    "print(s['a'])  # Access by label\n",
    "print(s[0])    # Access by position\n"
   ]
  },
  {
   "cell_type": "code",
   "execution_count": 2,
   "id": "ae02ea1e",
   "metadata": {},
   "outputs": [
    {
     "name": "stdout",
     "output_type": "stream",
     "text": [
      "a    1\n",
      "b    2\n",
      "c    3\n",
      "dtype: int64\n",
      "d    4\n",
      "e    5\n",
      "dtype: int64\n",
      "(5,)\n",
      "count    5.000000\n",
      "mean     3.000000\n",
      "std      1.581139\n",
      "min      1.000000\n",
      "25%      2.000000\n",
      "50%      3.000000\n",
      "75%      4.000000\n",
      "max      5.000000\n",
      "dtype: float64\n",
      "[1 2 3 4 5]\n"
     ]
    }
   ],
   "source": [
    "first_n_rows = s.head(3)  # Get first 3 rows\n",
    "print(first_n_rows)\n",
    "\n",
    "#return last n rows\n",
    "last_n_rows = s.tail(2)  # Get last 2 rows\n",
    "print(last_n_rows)\n",
    "\n",
    "#return dimentipns rows and coulmns\n",
    "print(s.shape)  \n",
    "\n",
    "#generate descriptive statics\n",
    "print(s.describe())  \n",
    "\n",
    "#retuern unique values\n",
    "print(s.unique())\n",
    "\n",
    "\n"
   ]
  },
  {
   "cell_type": "markdown",
   "id": "50529f07",
   "metadata": {},
   "source": [
    "Pandas series for temperature data\n",
    "\n",
    "* Use a list of daily temperature figures to create a pandas series\n",
    "* Assign days of the week as the index"
   ]
  },
  {
   "cell_type": "code",
   "execution_count": 3,
   "id": "99473f19",
   "metadata": {},
   "outputs": [],
   "source": [
    "import pandas as pd\n",
    "temperature_data = [30, 32, 31, 29, 28, 27, 26]\n",
    "days = ['Monday', 'Tuesday', 'Wednesday', 'Thursday', 'Friday', 'Saturday', 'Sunday']"
   ]
  },
  {
   "cell_type": "code",
   "execution_count": 4,
   "id": "ebb6a1c4",
   "metadata": {},
   "outputs": [
    {
     "name": "stdout",
     "output_type": "stream",
     "text": [
      "Monday       30\n",
      "Tuesday      32\n",
      "Wednesday    31\n",
      "Thursday     29\n",
      "Friday       28\n",
      "Saturday     27\n",
      "Sunday       26\n",
      "dtype: int64\n"
     ]
    }
   ],
   "source": [
    "temperature_series = pd.Series(temperature_data, index=days)\n",
    "print(temperature_series)"
   ]
  },
  {
   "cell_type": "code",
   "execution_count": 5,
   "id": "702134f5",
   "metadata": {},
   "outputs": [
    {
     "name": "stdout",
     "output_type": "stream",
     "text": [
      "Day(s) with highest deviation from average temperature:\n",
      "Tuesday (Temperature: 32°C, Deviation: 3.00°C)\n",
      "Sunday (Temperature: 26°C, Deviation: 3.00°C)\n"
     ]
    }
   ],
   "source": [
    "average = sum(temperature_data) / 7\n",
    "deviation = abs(temperature_series - average)\n",
    "max_deviation = deviation.max()\n",
    "print(\"Day(s) with highest deviation from average temperature:\")\n",
    "for day in deviation.index:\n",
    "    if deviation[day] == max_deviation:\n",
    "        print(f\"{day} (Temperature: {temperature_series[day]}°C, Deviation: {deviation[day]:.2f}°C)\")"
   ]
  },
  {
   "cell_type": "code",
   "execution_count": 6,
   "id": "567f8b51",
   "metadata": {},
   "outputs": [
    {
     "ename": "NameError",
     "evalue": "name 'data' is not defined",
     "output_type": "error",
     "traceback": [
      "\u001b[1;31m---------------------------------------------------------------------------\u001b[0m",
      "\u001b[1;31mNameError\u001b[0m                                 Traceback (most recent call last)",
      "Cell \u001b[1;32mIn[6], line 2\u001b[0m\n\u001b[0;32m      1\u001b[0m threshold_temp \u001b[38;5;241m=\u001b[39m \u001b[38;5;241m5\u001b[39m\n\u001b[1;32m----> 2\u001b[0m significant_change_days \u001b[38;5;241m=\u001b[39m \u001b[43mdata\u001b[49m[\u001b[38;5;28mabs\u001b[39m(data \u001b[38;5;241m-\u001b[39m average) \u001b[38;5;241m>\u001b[39m threshold_temp]\n",
      "\u001b[1;31mNameError\u001b[0m: name 'data' is not defined"
     ]
    }
   ],
   "source": [
    "threshold_temp = 5\n",
    "significant_change_days = data[abs(data - average) > threshold_temp]"
   ]
  },
  {
   "cell_type": "code",
   "execution_count": null,
   "id": "3d8096f2",
   "metadata": {},
   "outputs": [
    {
     "name": "stdout",
     "output_type": "stream",
     "text": [
      "2025-06-10 15:46:00.419178\n"
     ]
    }
   ],
   "source": [
    "from datetime import datetime\n",
    "today = datetime.now()\n",
    "print(today)"
   ]
  },
  {
   "cell_type": "code",
   "execution_count": null,
   "id": "6d0c48f0",
   "metadata": {},
   "outputs": [],
   "source": [
    "from datetime import timedelta\n",
    "\n",
    "# Get the current year, month, and day\n",
    "current_year = today.year\n",
    "current_month = today.month\n",
    "current_day = today.day\n",
    "print(f\"Year: {current_year}, Month: {current_month}, Day: {current_day}\")\n",
    "\n",
    "# Add 7 days to the current date\n",
    "next_week = today + timedelta(days=7)\n",
    "print(\"Date after 7 days:\", next_week)\n",
    "\n",
    "# Format the date as a string\n",
    "formatted_date = today.strftime(\"%A, %d %B %Y %H:%M:%S\")\n",
    "print(\"Formatted date:\", formatted_date)"
   ]
  },
  {
   "cell_type": "code",
   "execution_count": null,
   "id": "a339bfbf",
   "metadata": {},
   "outputs": [
    {
     "name": "stdout",
     "output_type": "stream",
     "text": [
      "Today is a weekday.\n"
     ]
    }
   ],
   "source": [
    "\n",
    "if today.weekday() < 5:\n",
    "    print(\"Today is a weekday.\")\n",
    "else:\n",
    "    print(\"Today is a weekend.\")"
   ]
  },
  {
   "cell_type": "code",
   "execution_count": 8,
   "id": "4b5ee6f5",
   "metadata": {},
   "outputs": [],
   "source": [
    "import numpy as np\n",
    "import pandas as pd\n",
    "data = {\n",
    "    \"Energy Source\": [\"Solar\", \"Wind\", \"Hydropower\", \"Geothermal\", \"Biomass\", \"Nuclear\"],\n",
    "    \"Energy Consumption (MWh)\": [1200, np.nan, 2900, np.nan, 2500, 3200],\n",
    "    \"Cost (Million $)\": [200, 400, np.nan, 150, 250, np.nan]\n",
    "}"
   ]
  },
  {
   "cell_type": "code",
   "execution_count": 10,
   "id": "2db7871e",
   "metadata": {},
   "outputs": [
    {
     "name": "stdout",
     "output_type": "stream",
     "text": [
      "Number of NaN values in each column:\n",
      "Energy Source               0\n",
      "Energy Consumption (MWh)    2\n",
      "Cost (Million $)            2\n",
      "dtype: int64\n",
      "\n",
      "DataFrame after filling NaN values:\n",
      "  Energy Source  Energy Consumption (MWh)  Cost (Million $)\n",
      "0         Solar                    1200.0             200.0\n",
      "1          Wind                    2450.0             400.0\n",
      "2    Hydropower                    2900.0             250.0\n",
      "3    Geothermal                    2450.0             150.0\n",
      "4       Biomass                    2500.0             250.0\n",
      "5       Nuclear                    3200.0             250.0\n"
     ]
    }
   ],
   "source": [
    "df = pd.DataFrame(data)\n",
    "# display the number of NaN values in each column\n",
    "print(\"Number of NaN values in each column:\")\n",
    "print(df.isna().sum())\n",
    "# fill NaN values with the mean of the column\n",
    "df['Energy Consumption (MWh)'].fillna(df['Energy Consumption (MWh)'].mean(), inplace=True)\n",
    "df['Cost (Million $)'].fillna(df['Cost (Million $)'].mean(), inplace=True)\n",
    "# display the DataFrame after filling NaN values\n",
    "print(\"\\nDataFrame after filling NaN values:\")\n",
    "print(df)"
   ]
  },
  {
   "cell_type": "code",
   "execution_count": null,
   "id": "99847482",
   "metadata": {},
   "outputs": [],
   "source": []
  }
 ],
 "metadata": {
  "kernelspec": {
   "display_name": "Python 3",
   "language": "python",
   "name": "python3"
  },
  "language_info": {
   "codemirror_mode": {
    "name": "ipython",
    "version": 3
   },
   "file_extension": ".py",
   "mimetype": "text/x-python",
   "name": "python",
   "nbconvert_exporter": "python",
   "pygments_lexer": "ipython3",
   "version": "3.11.9"
  }
 },
 "nbformat": 4,
 "nbformat_minor": 5
}
