{
 "cells": [
  {
   "cell_type": "code",
   "execution_count": 3,
   "id": "f3bb56d9",
   "metadata": {},
   "outputs": [],
   "source": [
    "import numpy as np\n",
    "import pandas as pd\n",
    "import matplotlib.pyplot as plt\n",
    "from sklearn.model_selection import train_test_split\n",
    "from sklearn.linear_model import LinearRegression\n",
    "from sklearn.metrics import mean_squared_error, r2_score\n",
    "import joblib"
   ]
  },
  {
   "cell_type": "code",
   "execution_count": 4,
   "id": "29c9079a",
   "metadata": {},
   "outputs": [
    {
     "name": "stdout",
     "output_type": "stream",
     "text": [
      "   carbon_emissions  energy_output  renewability_index  cost_efficiency  \\\n",
      "0        181.089042     128.286267            0.642032         0.732568   \n",
      "1        382.750007     672.769370            0.084140         2.891096   \n",
      "2        306.197880     382.920383            0.161629         2.932858   \n",
      "3        259.530469     557.713622            0.898554         3.368435   \n",
      "4        104.606524     916.809827            0.606429         3.767411   \n",
      "\n",
      "   sustainability  \n",
      "0               1  \n",
      "1               0  \n",
      "2               0  \n",
      "3               0  \n",
      "4               0  \n",
      "carbon_emissions      0\n",
      "energy_output         0\n",
      "renewability_index    0\n",
      "cost_efficiency       0\n",
      "sustainability        0\n",
      "dtype: int64\n"
     ]
    }
   ],
   "source": [
    "data = pd.read_csv(r'C:\\Users\\priya\\OneDrive\\Desktop\\greenAI\\day-7\\green_tech_data.csv')\n",
    "print(data.head())\n",
    "print(data.isnull().sum())\n",
    "data.fillna(data.mean(), inplace=True)"
   ]
  },
  {
   "cell_type": "code",
   "execution_count": null,
   "id": "51732e2a",
   "metadata": {},
   "outputs": [],
   "source": []
  }
 ],
 "metadata": {
  "kernelspec": {
   "display_name": "Python 3",
   "language": "python",
   "name": "python3"
  },
  "language_info": {
   "codemirror_mode": {
    "name": "ipython",
    "version": 3
   },
   "file_extension": ".py",
   "mimetype": "text/x-python",
   "name": "python",
   "nbconvert_exporter": "python",
   "pygments_lexer": "ipython3",
   "version": "3.11.9"
  }
 },
 "nbformat": 4,
 "nbformat_minor": 5
}
