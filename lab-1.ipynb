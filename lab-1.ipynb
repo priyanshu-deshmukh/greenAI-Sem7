{
 "cells": [
  {
   "cell_type": "markdown",
   "id": "38c97f9a",
   "metadata": {},
   "source": [
    "Introduction to python variables:"
   ]
  },
  {
   "cell_type": "markdown",
   "id": "e12f3fec",
   "metadata": {},
   "source": [
    "objective:\n"
   ]
  },
  {
   "cell_type": "code",
   "execution_count": 2,
   "id": "f6f1d1ce",
   "metadata": {},
   "outputs": [
    {
     "name": "stdout",
     "output_type": "stream",
     "text": [
      "hyderabad\n"
     ]
    }
   ],
   "source": [
    "city_name = 'hyderabad'\n",
    "print(city_name)"
   ]
  },
  {
   "cell_type": "code",
   "execution_count": 3,
   "id": "46d645c3",
   "metadata": {},
   "outputs": [
    {
     "name": "stdout",
     "output_type": "stream",
     "text": [
      "25\n"
     ]
    }
   ],
   "source": [
    "city_temperature = 25\n",
    "print(city_temperature)"
   ]
  },
  {
   "cell_type": "code",
   "execution_count": 4,
   "id": "10b36f18",
   "metadata": {},
   "outputs": [
    {
     "name": "stdout",
     "output_type": "stream",
     "text": [
      "10.5\n"
     ]
    }
   ],
   "source": [
    "carbon_footprint = 10.5\n",
    "print(carbon_footprint)"
   ]
  },
  {
   "cell_type": "code",
   "execution_count": 5,
   "id": "99df2a5b",
   "metadata": {},
   "outputs": [
    {
     "name": "stdout",
     "output_type": "stream",
     "text": [
      "True\n"
     ]
    }
   ],
   "source": [
    "if carbon_footprint < 400.75:\n",
    "    isSustainable = True\n",
    "    print(isSustainable)\n",
    "else:\n",
    "    isSustainable = False\n",
    "    print(isSustainable)"
   ]
  },
  {
   "cell_type": "code",
   "execution_count": 6,
   "id": "0f37d385",
   "metadata": {},
   "outputs": [
    {
     "name": "stdout",
     "output_type": "stream",
     "text": [
      "[25, 23, 22, 35, 37, 39, 43]\n"
     ]
    }
   ],
   "source": [
    "weekly_temp = [25, 23, 22, 35, 37, 39, 43]\n",
    "\n",
    "print(weekly_temp)"
   ]
  },
  {
   "cell_type": "code",
   "execution_count": 8,
   "id": "026c90db",
   "metadata": {},
   "outputs": [
    {
     "name": "stdout",
     "output_type": "stream",
     "text": [
      "[{'city': 'City A', 'temperature': 29, 'carbon_footprint': 500}, {'city': 'City B', 'temperature': 31, 'carbon_footprint': 450}, {'city': 'City C', 'temperature': 24, 'carbon_footprint': 360}, {'city': 'City D', 'temperature': 26, 'carbon_footprint': 460}, {'city': 'City E', 'temperature': 27, 'carbon_footprint': 340}]\n"
     ]
    }
   ],
   "source": [
    "climate_data = [\n",
    "    {\"city\": \"City A\", 'temperature' : 29, 'carbon_footprint': 500},\n",
    "    {\"city\": \"City B\", 'temperature' : 31, 'carbon_footprint': 450},\n",
    "    {\"city\": \"City C\", 'temperature' : 24, 'carbon_footprint': 360},\n",
    "    {\"city\": \"City D\", 'temperature' : 26, 'carbon_footprint': 460},\n",
    "    {\"city\": \"City E\", 'temperature' : 27, 'carbon_footprint': 340}\n",
    "]\n",
    "print(climate_data)"
   ]
  },
  {
   "cell_type": "code",
   "execution_count": null,
   "id": "a23c0bfa",
   "metadata": {},
   "outputs": [],
   "source": [
    "threshold_temp = 26\n",
    "high_temp_cities = {}\n",
    "for cit in climate_data:\n",
    "    if cit['temperature'] > threshold_temp:\n",
    "        high_temp_cities.append(cit['city'])\n",
    "print(high_temp_cities)"
   ]
  }
 ],
 "metadata": {
  "kernelspec": {
   "display_name": "Python 3",
   "language": "python",
   "name": "python3"
  },
  "language_info": {
   "codemirror_mode": {
    "name": "ipython",
    "version": 3
   },
   "file_extension": ".py",
   "mimetype": "text/x-python",
   "name": "python",
   "nbconvert_exporter": "python",
   "pygments_lexer": "ipython3",
   "version": "3.11.9"
  }
 },
 "nbformat": 4,
 "nbformat_minor": 5
}
