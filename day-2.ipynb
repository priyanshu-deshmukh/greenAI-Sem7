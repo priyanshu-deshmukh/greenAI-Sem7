{
 "cells": [
  {
   "cell_type": "code",
   "execution_count": 1,
   "id": "908d6c59",
   "metadata": {},
   "outputs": [],
   "source": [
    "#loops and conditional statements"
   ]
  },
  {
   "cell_type": "code",
   "execution_count": 7,
   "id": "ec681127",
   "metadata": {},
   "outputs": [
    {
     "name": "stdout",
     "output_type": "stream",
     "text": [
      "For 20 hours and at 40 rate, the gross pay is 800\n"
     ]
    }
   ],
   "source": [
    "hours, rate = map(int, input(\"Enter hours and rate.\").split())\n",
    "cost = hours * rate\n",
    "print(f\"For {hours} hours and at {rate} rate, the gross pay is {cost}\")"
   ]
  },
  {
   "cell_type": "code",
   "execution_count": 12,
   "id": "33e0ee6c",
   "metadata": {},
   "outputs": [
    {
     "name": "stdout",
     "output_type": "stream",
     "text": [
      "For 45 hours and at 10 rate, the gross pay is 475.0\n",
      "Extra hours: 5 \n",
      "Extra hours payment: 75.0\n"
     ]
    }
   ],
   "source": [
    "hours, rate = map(int, input(\"Enter hours and rate.\").split())\n",
    "\n",
    "extra_hours = hours - 40\n",
    "\n",
    "\n",
    "if extra_hours > 0:\n",
    "    cost = 40 * rate + (extra_hours * 1.5 * rate)\n",
    "    print(f\"For {hours} hours and at {rate} rate, the gross pay is {cost}\")\n",
    "    print(f\"Extra hours: {extra_hours} \\nExtra hours payment: {extra_hours * 1.5 * rate}\")\n",
    "else:\n",
    "    cost = hours * rate\n",
    "    print(f\"For {hours} hours and at {rate} rate, the gross pay is {cost}\")\n"
   ]
  },
  {
   "cell_type": "code",
   "execution_count": 13,
   "id": "3eda972c",
   "metadata": {},
   "outputs": [],
   "source": [
    "#for loops"
   ]
  },
  {
   "cell_type": "code",
   "execution_count": null,
   "id": "7a8fc810",
   "metadata": {},
   "outputs": [],
   "source": [
    "n = input(\"enter the start number\")\n",
    "l = input(\"enter the stop number\")\n",
    "sum = 0\n",
    "for i in range (n, l):\n",
    "    sum = sum + 1\n",
    "\n",
    "print(sum)\n"
   ]
  },
  {
   "cell_type": "code",
   "execution_count": 17,
   "id": "7a6cc127",
   "metadata": {},
   "outputs": [
    {
     "name": "stdout",
     "output_type": "stream",
     "text": [
      "hi\n",
      "hi\n",
      "hello\n",
      "iasoi\n",
      "asjfnksa\n",
      "skjfka\n",
      "quit\n",
      "exit successful\n"
     ]
    }
   ],
   "source": [
    "user_input = ''\n",
    "while user_input != 'quit':\n",
    "    user_input = input(\"Enter something: \")\n",
    "    print(user_input)\n",
    "\n",
    "print(\"exit successful\")"
   ]
  },
  {
   "cell_type": "code",
   "execution_count": null,
   "id": "3d6d8ac3",
   "metadata": {},
   "outputs": [],
   "source": [
    "def pay_computation(hour, rates):\n",
    "    hours, rate = map(int, input(\"Enter hours and rate.\").split())\n",
    "\n",
    "    extra_hours = hours - 40\n",
    "\n",
    "\n",
    "    if extra_hours > 0:\n",
    "        cost = 40 * rate + (extra_hours * 1.5 * rate)\n",
    "        print(f\"For {hours} hours and at {rate} rate, the gross pay is {cost}\")\n",
    "        print(f\"Extra hours: {extra_hours} \\nExtra hours payment: {extra_hours * 1.5 * rate}\")\n",
    "    else:\n",
    "        cost = hours * rate\n",
    "        print(f\"For {hours} hours and at {rate} rate, the gross pay is {cost}\")"
   ]
  },
  {
   "cell_type": "code",
   "execution_count": null,
   "id": "c84a735b",
   "metadata": {},
   "outputs": [],
   "source": [
    "def addition(*nums):\n",
    "    sum = 0\n",
    "    for num in nums:\n",
    "        sum = sum + num\n",
    "    \n",
    "def "
   ]
  },
  {
   "cell_type": "code",
   "execution_count": 20,
   "id": "4f8b30e9",
   "metadata": {},
   "outputs": [
    {
     "name": "stdout",
     "output_type": "stream",
     "text": [
      "<function <lambda> at 0x00000127428474C0>\n"
     ]
    }
   ],
   "source": [
    "#write a lambda function to take\n",
    "x, y = map(int, input(\"Enter mass and velocity\").split())\n",
    "momentum = lambda x,y : x * y\n",
    "print(momentum)"
   ]
  }
 ],
 "metadata": {
  "kernelspec": {
   "display_name": "Python 3",
   "language": "python",
   "name": "python3"
  },
  "language_info": {
   "codemirror_mode": {
    "name": "ipython",
    "version": 3
   },
   "file_extension": ".py",
   "mimetype": "text/x-python",
   "name": "python",
   "nbconvert_exporter": "python",
   "pygments_lexer": "ipython3",
   "version": "3.11.9"
  }
 },
 "nbformat": 4,
 "nbformat_minor": 5
}
