{
 "cells": [
  {
   "cell_type": "code",
   "execution_count": 1,
   "id": "908d6c59",
   "metadata": {},
   "outputs": [],
   "source": [
    "#loops and conditional statements"
   ]
  },
  {
   "cell_type": "code",
   "execution_count": 7,
   "id": "ec681127",
   "metadata": {},
   "outputs": [
    {
     "name": "stdout",
     "output_type": "stream",
     "text": [
      "For 20 hours and at 40 rate, the gross pay is 800\n"
     ]
    }
   ],
   "source": [
    "hours, rate = map(int, input(\"Enter hours and rate.\").split())\n",
    "cost = hours * rate\n",
    "print(f\"For {hours} hours and at {rate} rate, the gross pay is {cost}\")"
   ]
  },
  {
   "cell_type": "code",
   "execution_count": 10,
   "id": "33e0ee6c",
   "metadata": {},
   "outputs": [
    {
     "name": "stdout",
     "output_type": "stream",
     "text": [
      "For 48 hours and at 200 rate, the gross pay is 10400.0\n",
      "Extra hours: 8 \n",
      "Extra hours payment: 2400.0\n"
     ]
    }
   ],
   "source": [
    "hours, rate = map(int, input(\"Enter hours and rate.\").split())\n",
    "\n",
    "extra_hours = hours - 40\n",
    "\n",
    "\n",
    "if extra_hours > 0:\n",
    "    cost = 40 * rate + (extra_hours * 1.5 * rate)\n",
    "    print(f\"For {hours} hours and at {rate} rate, the gross pay is {cost}\")\n",
    "    print(f\"Extra hours: {extra_hours} \\nExtra hours payment: {extra_hours * 1.5 * rate}\")\n",
    "else:\n",
    "    cost = hours * rate\n",
    "    print(f\"For {hours} hours and at {rate} rate, the gross pay is {cost}\")\n"
   ]
  }
 ],
 "metadata": {
  "kernelspec": {
   "display_name": "Python 3",
   "language": "python",
   "name": "python3"
  },
  "language_info": {
   "codemirror_mode": {
    "name": "ipython",
    "version": 3
   },
   "file_extension": ".py",
   "mimetype": "text/x-python",
   "name": "python",
   "nbconvert_exporter": "python",
   "pygments_lexer": "ipython3",
   "version": "3.11.9"
  }
 },
 "nbformat": 4,
 "nbformat_minor": 5
}
