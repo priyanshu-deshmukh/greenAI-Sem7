{
 "cells": [
  {
   "cell_type": "code",
   "execution_count": null,
   "id": "c335bd36-b600-48f8-b71e-6e11af902f09",
   "metadata": {},
   "outputs": [],
   "source": [
    "import pandas as pd\n",
    "import numpy as np\n",
    "from sklearn.preprocessing import MinMaxScaler\n",
    "from tensorflow.keras.models import Sequential\n",
    "from tensorflow.keras.layers import Dense"
   ]
  },
  {
   "cell_type": "code",
   "execution_count": null,
   "id": "ba075904-87ee-4432-8f4e-4a7443d47de6",
   "metadata": {},
   "outputs": [],
   "source": [
    "crop = pd.read_csv(r\"C:\\Users\\priya\\OneDrive\\Desktop\\greenAI\\day-10\\crop_yield_data(in).csv\")"
   ]
  },
  {
   "cell_type": "code",
   "execution_count": null,
   "id": "917f6ff4-de1e-4290-8910-6f4e3684439f",
   "metadata": {},
   "outputs": [],
   "source": [
    "crop"
   ]
  },
  {
   "cell_type": "code",
   "execution_count": null,
   "id": "368c617b-fb84-4531-bec6-b9fc49574c4e",
   "metadata": {},
   "outputs": [],
   "source": [
    "crop.isna().sum()"
   ]
  },
  {
   "cell_type": "code",
   "execution_count": null,
   "id": "4674bd60-46c8-4261-9164-75bbe9941556",
   "metadata": {},
   "outputs": [],
   "source": [
    "X = crop.drop('crop_yield', axis = 1) #Features\n",
    "y = crop['crop_yield'] #Target"
   ]
  },
  {
   "cell_type": "code",
   "execution_count": null,
   "id": "0ca75258-6479-4170-a8fc-656a191120a6",
   "metadata": {},
   "outputs": [],
   "source": [
    "X"
   ]
  },
  {
   "cell_type": "code",
   "execution_count": null,
   "id": "2220a875-2be1-4aa6-bf9e-f33285a60158",
   "metadata": {},
   "outputs": [],
   "source": [
    "y"
   ]
  },
  {
   "cell_type": "code",
   "execution_count": null,
   "id": "8981f174-feaf-43db-a411-a399457d4404",
   "metadata": {},
   "outputs": [],
   "source": [
    "scaler = MinMaxScaler()\n",
    "X_scaled = scaler.fit_transform(X)\n",
    "\n",
    "#scaler_y = StandardScaler()\n",
    "y_scaled = scaler.fit_transform(y.values.reshape(-1, 1))"
   ]
  },
  {
   "cell_type": "code",
   "execution_count": null,
   "id": "26d98d27-f15d-40e6-a101-afef3f56390a",
   "metadata": {},
   "outputs": [],
   "source": [
    "from sklearn.model_selection import train_test_split\n",
    "X_train, X_test, y_train, y_test = train_test_split(X_scaled, y_scaled, test_size = 0.2, random_state = 42)"
   ]
  },
  {
   "cell_type": "code",
   "execution_count": null,
   "id": "dfae2f14-8975-4464-9ff1-93c8b9fcf8ad",
   "metadata": {},
   "outputs": [],
   "source": [
    "crop_model = Sequential()"
   ]
  },
  {
   "cell_type": "code",
   "execution_count": null,
   "id": "b9219841-3c6f-48cb-886e-15489276051a",
   "metadata": {},
   "outputs": [],
   "source": [
    "X_train.shape"
   ]
  },
  {
   "cell_type": "code",
   "execution_count": null,
   "id": "0b3742a3-7dfe-4684-84a1-962ef5946acb",
   "metadata": {},
   "outputs": [],
   "source": [
    "crop_model.add(Dense(64, input_dim = X_train.shape[1], activation = 'relu'))\n",
    "crop_model.add(Dense(32, activation = 'relu'))\n",
    "crop_model.add(Dense(1, activation = 'linear'))"
   ]
  },
  {
   "cell_type": "code",
   "execution_count": null,
   "id": "9ef31f3c-e1bf-4623-858c-42367affae1c",
   "metadata": {},
   "outputs": [],
   "source": [
    "crop_model.summary()"
   ]
  },
  {
   "cell_type": "code",
   "execution_count": null,
   "id": "0facda33-2233-42e3-855f-54dafb3b0069",
   "metadata": {},
   "outputs": [],
   "source": [
    "crop_model.compile(optimizer = 'adam', loss = 'mean_squared_error', metrics = ['mae'])"
   ]
  },
  {
   "cell_type": "code",
   "execution_count": null,
   "id": "b4dee09f-9e7a-4528-aedd-513bd2f39ab8",
   "metadata": {},
   "outputs": [],
   "source": [
    "crop_model.fit(X_train, y_train, epochs = 50, batch_size = 4)"
   ]
  },
  {
   "cell_type": "code",
   "execution_count": null,
   "id": "0b3d8dae-60e8-4451-820d-c1642e1e1061",
   "metadata": {},
   "outputs": [],
   "source": [
    "loss = crop_model.evaluate(X_test, y_test)\n",
    "print(loss)"
   ]
  },
  {
   "cell_type": "code",
   "execution_count": null,
   "id": "54b90f29-2b77-41c4-9c55-619336e041c7",
   "metadata": {},
   "outputs": [],
   "source": [
    "from sklearn.metrics import r2_score\n",
    "# Predict (scaled)\n",
    "y_pred_scaled = crop_model.predict(X_test)\n",
    "print(f\"Scaled output: {y_pred_scaled}\")\n",
    "# Inverse transform predictions\n",
    "y_pred = scaler.inverse_transform(y_pred_scaled)\n",
    "print(f\"Normal Output: {y_pred}\")\n",
    "y_actual = scaler.inverse_transform(y_test)\n",
    "print(f\"Actual output: {y_pred_scaled}\")\n",
    "\n",
    "# R² score\n",
    "r2 = r2_score(y_actual, y_pred)\n",
    "print(f\"R² Score: {r2:.2f}\")"
   ]
  },
  {
   "cell_type": "code",
   "execution_count": null,
   "id": "ac0ab989-b260-468e-a6a9-a756013dd142",
   "metadata": {},
   "outputs": [],
   "source": [
    "y_pred"
   ]
  },
  {
   "cell_type": "code",
   "execution_count": null,
   "id": "71ea29fb-8821-411c-8e8d-958f89d6a675",
   "metadata": {},
   "outputs": [],
   "source": [
    "y_actual"
   ]
  },
  {
   "cell_type": "code",
   "execution_count": null,
   "id": "a7b2b304-afe2-4b49-be93-8d2e2873ad6e",
   "metadata": {},
   "outputs": [],
   "source": []
  }
 ],
 "metadata": {
  "kernelspec": {
   "display_name": "Python [conda env:base] *",
   "language": "python",
   "name": "conda-base-py"
  },
  "language_info": {
   "codemirror_mode": {
    "name": "ipython",
    "version": 3
   },
   "file_extension": ".py",
   "mimetype": "text/x-python",
   "name": "python",
   "nbconvert_exporter": "python",
   "pygments_lexer": "ipython3",
   "version": "3.12.7"
  }
 },
 "nbformat": 4,
 "nbformat_minor": 5
}
