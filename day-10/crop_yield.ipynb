{
 "cells": [
  {
   "cell_type": "code",
   "execution_count": 18,
   "id": "44e9038e",
   "metadata": {},
   "outputs": [],
   "source": [
    "import pandas as pd\n",
    "import numpy as np\n",
    "from sklearn.preprocessing import StandardScaler\n",
    "from sklearn.preprocessing import MinMaxScaler\n",
    "from tensorflow.keras.models import Sequential\n",
    "from tensorflow.keras.layers import Dense"
   ]
  },
  {
   "cell_type": "code",
   "execution_count": 19,
   "id": "fe0f388e",
   "metadata": {},
   "outputs": [],
   "source": [
    "#load the dataset\n",
    "crop = pd.read_csv(r'C:\\Users\\priya\\OneDrive\\Desktop\\greenAI\\day-10\\crop_yield_data(in).csv')"
   ]
  },
  {
   "cell_type": "code",
   "execution_count": 20,
   "id": "07c3fab9",
   "metadata": {},
   "outputs": [
    {
     "data": {
      "text/plain": [
       "temperature        0\n",
       "humidity           0\n",
       "rainfall           0\n",
       "soil_quality       0\n",
       "fertilizer_used    0\n",
       "crop_yield         0\n",
       "dtype: int64"
      ]
     },
     "execution_count": 20,
     "metadata": {},
     "output_type": "execute_result"
    }
   ],
   "source": [
    "crop.isna().sum()"
   ]
  },
  {
   "cell_type": "code",
   "execution_count": null,
   "id": "45d6f046",
   "metadata": {},
   "outputs": [],
   "source": [
    "X = crop.drop(['crop_yield'], axis=1)\n",
    "y = crop['crop_yield']"
   ]
  },
  {
   "cell_type": "code",
   "execution_count": 23,
   "id": "94c328b9",
   "metadata": {},
   "outputs": [],
   "source": [
    "scaler = MinMaxScaler()\n",
    "X_scaled = scaler.fit_transform(X)"
   ]
  },
  {
   "cell_type": "code",
   "execution_count": 24,
   "id": "65c8ec14",
   "metadata": {},
   "outputs": [],
   "source": [
    "from sklearn.model_selection import train_test_split\n",
    "X_train, X_test, y_train, y_test = train_test_split(X_scaled, y, test_size=0.2, random_state=42)"
   ]
  },
  {
   "cell_type": "code",
   "execution_count": null,
   "id": "6616395a",
   "metadata": {},
   "outputs": [],
   "source": [
    "crop_model = Sequential()\n",
    "crop_model.add(Dense(64, activation='relu', input_shape=(X_train.shape[1],)))"
   ]
  }
 ],
 "metadata": {
  "kernelspec": {
   "display_name": "Python 3",
   "language": "python",
   "name": "python3"
  },
  "language_info": {
   "codemirror_mode": {
    "name": "ipython",
    "version": 3
   },
   "file_extension": ".py",
   "mimetype": "text/x-python",
   "name": "python",
   "nbconvert_exporter": "python",
   "pygments_lexer": "ipython3",
   "version": "3.11.9"
  }
 },
 "nbformat": 4,
 "nbformat_minor": 5
}
