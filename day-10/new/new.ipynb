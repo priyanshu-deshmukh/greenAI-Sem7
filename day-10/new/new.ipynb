{
 "cells": [
  {
   "cell_type": "code",
   "execution_count": 31,
   "id": "e57ff0f7",
   "metadata": {},
   "outputs": [],
   "source": [
    "import pandas as pd\n",
    "import numpy as np\n",
    "import os\n",
    "import matplotlib.pyplot as plt\n",
    "import itertools\n",
    "from PIL import Image\n",
    "from tensorflow.keras.preprocessing.image import ImageDataGenerator\n",
    "from tensorflow.keras.models import Sequential, load_model\n",
    "from tensorflow.keras.layers import Conv2D, MaxPooling2D, Flatten, Dense, Dropout\n",
    "\n",
    "from sklearn.model_selection import train_test_split\n",
    "from sklearn.metrics import confusion_matrix"
   ]
  },
  {
   "cell_type": "code",
   "execution_count": 32,
   "id": "e97e54cc",
   "metadata": {},
   "outputs": [],
   "source": [
    "# Empty dataframe\n",
    "data = pd.DataFrame(columns=['image_path', 'label'])\n",
    "\n",
    "labels = {\n",
    "    r\"C:\\Users\\priya\\OneDrive\\Desktop\\greenAI\\day-10\\new\\data\\water\" : \"Water\",\n",
    "    r\"C:\\Users\\priya\\OneDrive\\Desktop\\greenAI\\day-10\\new\\data\\cloudy\" : \"Cloudy\",\n",
    "    r\"C:\\Users\\priya\\OneDrive\\Desktop\\greenAI\\day-10\\new\\data\\green_area\" : \"Green\",\n",
    "    r\"C:\\Users\\priya\\OneDrive\\Desktop\\greenAI\\day-10\\new\\data\\desert\" : \"Desert\",\n",
    "}"
   ]
  },
  {
   "cell_type": "code",
   "execution_count": 33,
   "id": "56f0d0f6",
   "metadata": {},
   "outputs": [
    {
     "name": "stdout",
     "output_type": "stream",
     "text": [
      "                                             image_path   label\n",
      "0     C:\\Users\\priya\\OneDrive\\Desktop\\greenAI\\day-10...   Water\n",
      "1     C:\\Users\\priya\\OneDrive\\Desktop\\greenAI\\day-10...   Water\n",
      "2     C:\\Users\\priya\\OneDrive\\Desktop\\greenAI\\day-10...   Water\n",
      "3     C:\\Users\\priya\\OneDrive\\Desktop\\greenAI\\day-10...   Water\n",
      "4     C:\\Users\\priya\\OneDrive\\Desktop\\greenAI\\day-10...   Water\n",
      "...                                                 ...     ...\n",
      "5626  C:\\Users\\priya\\OneDrive\\Desktop\\greenAI\\day-10...  Desert\n",
      "5627  C:\\Users\\priya\\OneDrive\\Desktop\\greenAI\\day-10...  Desert\n",
      "5628  C:\\Users\\priya\\OneDrive\\Desktop\\greenAI\\day-10...  Desert\n",
      "5629  C:\\Users\\priya\\OneDrive\\Desktop\\greenAI\\day-10...  Desert\n",
      "5630  C:\\Users\\priya\\OneDrive\\Desktop\\greenAI\\day-10...  Desert\n",
      "\n",
      "[5631 rows x 2 columns]\n"
     ]
    }
   ],
   "source": [
    "#validate the folder path\n",
    "rows = []\n",
    "for folder in labels:\n",
    "    if not os.path.exists(folder):\n",
    "        print(f\"Folder {folder} does not exist. Please check the path.\")\n",
    "        continue\n",
    "    for image_name in os.listdir(folder):\n",
    "        image_path = os.path.join(folder, image_name)\n",
    "        if os.path.isfile(image_path):\n",
    "            rows.append({'image_path': image_path, 'label': labels[folder]})\n",
    "\n",
    "data = pd.DataFrame(rows)\n",
    "print(data)"
   ]
  },
  {
   "cell_type": "code",
   "execution_count": 34,
   "id": "29f58d64",
   "metadata": {},
   "outputs": [],
   "source": [
    "data.to_csv(\"image_dataset.csv\" , index=False)"
   ]
  },
  {
   "cell_type": "code",
   "execution_count": 35,
   "id": "697895f8",
   "metadata": {},
   "outputs": [
    {
     "data": {
      "text/html": [
       "<div>\n",
       "<style scoped>\n",
       "    .dataframe tbody tr th:only-of-type {\n",
       "        vertical-align: middle;\n",
       "    }\n",
       "\n",
       "    .dataframe tbody tr th {\n",
       "        vertical-align: top;\n",
       "    }\n",
       "\n",
       "    .dataframe thead th {\n",
       "        text-align: right;\n",
       "    }\n",
       "</style>\n",
       "<table border=\"1\" class=\"dataframe\">\n",
       "  <thead>\n",
       "    <tr style=\"text-align: right;\">\n",
       "      <th></th>\n",
       "      <th>image_path</th>\n",
       "      <th>label</th>\n",
       "    </tr>\n",
       "  </thead>\n",
       "  <tbody>\n",
       "    <tr>\n",
       "      <th>0</th>\n",
       "      <td>C:\\Users\\priya\\OneDrive\\Desktop\\greenAI\\day-10...</td>\n",
       "      <td>Water</td>\n",
       "    </tr>\n",
       "    <tr>\n",
       "      <th>1</th>\n",
       "      <td>C:\\Users\\priya\\OneDrive\\Desktop\\greenAI\\day-10...</td>\n",
       "      <td>Water</td>\n",
       "    </tr>\n",
       "    <tr>\n",
       "      <th>2</th>\n",
       "      <td>C:\\Users\\priya\\OneDrive\\Desktop\\greenAI\\day-10...</td>\n",
       "      <td>Water</td>\n",
       "    </tr>\n",
       "    <tr>\n",
       "      <th>3</th>\n",
       "      <td>C:\\Users\\priya\\OneDrive\\Desktop\\greenAI\\day-10...</td>\n",
       "      <td>Water</td>\n",
       "    </tr>\n",
       "    <tr>\n",
       "      <th>4</th>\n",
       "      <td>C:\\Users\\priya\\OneDrive\\Desktop\\greenAI\\day-10...</td>\n",
       "      <td>Water</td>\n",
       "    </tr>\n",
       "    <tr>\n",
       "      <th>...</th>\n",
       "      <td>...</td>\n",
       "      <td>...</td>\n",
       "    </tr>\n",
       "    <tr>\n",
       "      <th>5626</th>\n",
       "      <td>C:\\Users\\priya\\OneDrive\\Desktop\\greenAI\\day-10...</td>\n",
       "      <td>Desert</td>\n",
       "    </tr>\n",
       "    <tr>\n",
       "      <th>5627</th>\n",
       "      <td>C:\\Users\\priya\\OneDrive\\Desktop\\greenAI\\day-10...</td>\n",
       "      <td>Desert</td>\n",
       "    </tr>\n",
       "    <tr>\n",
       "      <th>5628</th>\n",
       "      <td>C:\\Users\\priya\\OneDrive\\Desktop\\greenAI\\day-10...</td>\n",
       "      <td>Desert</td>\n",
       "    </tr>\n",
       "    <tr>\n",
       "      <th>5629</th>\n",
       "      <td>C:\\Users\\priya\\OneDrive\\Desktop\\greenAI\\day-10...</td>\n",
       "      <td>Desert</td>\n",
       "    </tr>\n",
       "    <tr>\n",
       "      <th>5630</th>\n",
       "      <td>C:\\Users\\priya\\OneDrive\\Desktop\\greenAI\\day-10...</td>\n",
       "      <td>Desert</td>\n",
       "    </tr>\n",
       "  </tbody>\n",
       "</table>\n",
       "<p>5631 rows × 2 columns</p>\n",
       "</div>"
      ],
      "text/plain": [
       "                                             image_path   label\n",
       "0     C:\\Users\\priya\\OneDrive\\Desktop\\greenAI\\day-10...   Water\n",
       "1     C:\\Users\\priya\\OneDrive\\Desktop\\greenAI\\day-10...   Water\n",
       "2     C:\\Users\\priya\\OneDrive\\Desktop\\greenAI\\day-10...   Water\n",
       "3     C:\\Users\\priya\\OneDrive\\Desktop\\greenAI\\day-10...   Water\n",
       "4     C:\\Users\\priya\\OneDrive\\Desktop\\greenAI\\day-10...   Water\n",
       "...                                                 ...     ...\n",
       "5626  C:\\Users\\priya\\OneDrive\\Desktop\\greenAI\\day-10...  Desert\n",
       "5627  C:\\Users\\priya\\OneDrive\\Desktop\\greenAI\\day-10...  Desert\n",
       "5628  C:\\Users\\priya\\OneDrive\\Desktop\\greenAI\\day-10...  Desert\n",
       "5629  C:\\Users\\priya\\OneDrive\\Desktop\\greenAI\\day-10...  Desert\n",
       "5630  C:\\Users\\priya\\OneDrive\\Desktop\\greenAI\\day-10...  Desert\n",
       "\n",
       "[5631 rows x 2 columns]"
      ]
     },
     "execution_count": 35,
     "metadata": {},
     "output_type": "execute_result"
    }
   ],
   "source": [
    "df = pd.read_csv(\"image_dataset.csv\")\n",
    "df"
   ]
  },
  {
   "cell_type": "code",
   "execution_count": 36,
   "id": "52bc9ba4",
   "metadata": {},
   "outputs": [],
   "source": [
    "train_df, test_df = train_test_split(data, test_size=0.2, random_state=42, stratify=data['label'])"
   ]
  },
  {
   "cell_type": "code",
   "execution_count": 37,
   "id": "9783ffa8",
   "metadata": {},
   "outputs": [],
   "source": [
    "train_datagen = ImageDataGenerator(\n",
    "    rescale=1./255,\n",
    "    shear_range=0.2,\n",
    "    zoom_range=0.2,\n",
    "    horizontal_flip=True,\n",
    "    vertical_flip=True,\n",
    "    rotation_range=20,\n",
    "    fill_mode='nearest',\n",
    ")"
   ]
  },
  {
   "cell_type": "code",
   "execution_count": 38,
   "id": "69ae5ab3",
   "metadata": {},
   "outputs": [],
   "source": [
    "test_datagen = ImageDataGenerator(rescale=1./255)"
   ]
  },
  {
   "cell_type": "code",
   "execution_count": 39,
   "id": "1cb113fc",
   "metadata": {},
   "outputs": [
    {
     "name": "stdout",
     "output_type": "stream",
     "text": [
      "Found 4504 validated image filenames belonging to 4 classes.\n"
     ]
    }
   ],
   "source": [
    "train_generator = train_datagen.flow_from_dataframe(\n",
    "    dataframe=train_df,\n",
    "    directory=None,\n",
    "    x_col='image_path',\n",
    "    y_col='label',\n",
    "    target_size=(255, 255),\n",
    "    batch_size=32,\n",
    "    class_mode='categorical',\n",
    "    shuffle=True\n",
    ")"
   ]
  },
  {
   "cell_type": "code",
   "execution_count": 40,
   "id": "8d5ee9a3",
   "metadata": {},
   "outputs": [
    {
     "name": "stdout",
     "output_type": "stream",
     "text": [
      "Found 4504 validated image filenames belonging to 4 classes.\n"
     ]
    }
   ],
   "source": [
    "train_generator = train_datagen.flow_from_dataframe(\n",
    "    dataframe=train_df,\n",
    "    directory=None,\n",
    "    x_col='image_path',\n",
    "    y_col='label',\n",
    "    target_size=(255, 255),\n",
    "    batch_size=32,\n",
    "    class_mode='categorical',\n",
    "    shuffle=True\n",
    ")"
   ]
  },
  {
   "cell_type": "code",
   "execution_count": 41,
   "id": "90869cbc",
   "metadata": {},
   "outputs": [
    {
     "name": "stdout",
     "output_type": "stream",
     "text": [
      "Found 1127 validated image filenames belonging to 4 classes.\n"
     ]
    }
   ],
   "source": [
    "test_generator = test_datagen.flow_from_dataframe(\n",
    "    dataframe=test_df,\n",
    "    directory=None,\n",
    "    x_col='image_path',\n",
    "    y_col='label',\n",
    "    target_size=(255, 255),\n",
    "    batch_size=32,\n",
    "    class_mode='categorical',\n",
    "    shuffle=False\n",
    ")"
   ]
  },
  {
   "cell_type": "code",
   "execution_count": 46,
   "id": "ec0c3702",
   "metadata": {},
   "outputs": [
    {
     "name": "stdout",
     "output_type": "stream",
     "text": [
      "Model: \"sequential_1\"\n",
      "_________________________________________________________________\n",
      " Layer (type)                Output Shape              Param #   \n",
      "=================================================================\n",
      " conv2d_1 (Conv2D)           (None, 253, 253, 32)      896       \n",
      "                                                                 \n",
      " max_pooling2d (MaxPooling2  (None, 126, 126, 32)      0         \n",
      " D)                                                              \n",
      "                                                                 \n",
      " conv2d_2 (Conv2D)           (None, 124, 124, 64)      18496     \n",
      "                                                                 \n",
      " max_pooling2d_1 (MaxPoolin  (None, 62, 62, 64)        0         \n",
      " g2D)                                                            \n",
      "                                                                 \n",
      " conv2d_3 (Conv2D)           (None, 60, 60, 128)       73856     \n",
      "                                                                 \n",
      " max_pooling2d_2 (MaxPoolin  (None, 30, 30, 128)       0         \n",
      " g2D)                                                            \n",
      "                                                                 \n",
      " flatten (Flatten)           (None, 115200)            0         \n",
      "                                                                 \n",
      " dense (Dense)               (None, 128)               14745728  \n",
      "                                                                 \n",
      "=================================================================\n",
      "Total params: 14838976 (56.61 MB)\n",
      "Trainable params: 14838976 (56.61 MB)\n",
      "Non-trainable params: 0 (0.00 Byte)\n",
      "_________________________________________________________________\n"
     ]
    }
   ],
   "source": [
    "cnnmodel = Sequential()\n",
    "cnnmodel.add(Conv2D(32, (3, 3), input_shape=(255, 255, 3), activation='relu'))\n",
    "cnnmodel.add(MaxPooling2D(pool_size=(2, 2)))\n",
    "cnnmodel.add(Conv2D(64, (3, 3), activation='relu'))\n",
    "cnnmodel.add(MaxPooling2D(pool_size=(2, 2)))\n",
    "cnnmodel.add(Conv2D(128, (3, 3), activation='relu'))\n",
    "cnnmodel.add(MaxPooling2D(pool_size=(2, 2)))\n",
    "cnnmodel.add(Flatten())\n",
    "cnnmodel.add(Dense(128, activation='relu'))\n",
    "cnnmodel.compile(optimizer='adam', loss='categorical_crossentropy', metrics=['accuracy'])\n",
    "cnnmodel.summary()"
   ]
  },
  {
   "cell_type": "code",
   "execution_count": null,
   "id": "78f3fc81",
   "metadata": {},
   "outputs": [],
   "source": [
    "!git add .\n",
    "!git commit -m \"Added CNN model for image classification\"\n",
    "!git push origin main"
   ]
  }
 ],
 "metadata": {
  "kernelspec": {
   "display_name": "Python 3",
   "language": "python",
   "name": "python3"
  },
  "language_info": {
   "codemirror_mode": {
    "name": "ipython",
    "version": 3
   },
   "file_extension": ".py",
   "mimetype": "text/x-python",
   "name": "python",
   "nbconvert_exporter": "python",
   "pygments_lexer": "ipython3",
   "version": "3.11.9"
  }
 },
 "nbformat": 4,
 "nbformat_minor": 5
}
