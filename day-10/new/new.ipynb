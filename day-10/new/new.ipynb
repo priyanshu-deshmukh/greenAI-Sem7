{
 "cells": [
  {
   "cell_type": "code",
   "execution_count": null,
   "id": "e57ff0f7",
   "metadata": {},
   "outputs": [],
   "source": [
    "import pandas as pd\n",
    "import numpy as np\n",
    "import os\n",
    "import matplotlib.pyplot as plt\n",
    "import itertools\n",
    "from PIL import Image\n",
    "from tensorflow.keras.preprocessing.image import ImageDataGenerator\n",
    "from tensorflow.keras.models import Sequential, load_model\n",
    "from tensorflow.keras.layers import Conv2D, MaxPooling2D, Flatten, Dense, Dropout\n",
    "\n",
    "from sklearn.model_selection import train_test_split\n",
    "from sklearn.metrics import confusion_matrix"
   ]
  },
  {
   "cell_type": "code",
   "execution_count": null,
   "id": "e97e54cc",
   "metadata": {},
   "outputs": [],
   "source": [
    "#Empty dataframe\n",
    "data = pd.DataFrame(columns=['image_path', 'label'])\n",
    "\n",
    "dabels = {\n",
    "    r\"C:\\Users\\priya\\OneDrive\\Desktop\\greenAI\\day-10\\new\\data\\water\" : \"Water\",\n",
    "    r\"C:\\Users\\priya\\OneDrive\\Desktop\\greenAI\\day-10\\new\\data\\cloudy\" : \"Cloudy\",\n",
    "    r\"C:\\Users\\priya\\OneDrive\\Desktop\\greenAI\\day-10\\new\\data\\green_area\" : \"Green\",\n",
    "    r\"C:\\Users\\priya\\OneDrive\\Desktop\\greenAI\\day-10\\new\\data\\desert\" : \"Desert\",\n",
    "}"
   ]
  },
  {
   "cell_type": "code",
   "execution_count": null,
   "id": "56f0d0f6",
   "metadata": {},
   "outputs": [],
   "source": [
    "#validate the folder path\n",
    "\n",
    "for folder in labels:\n",
    "    if not os.path.exists(folder):\n",
    "        print(f\"Folder {folder} does not exist. Please check the path.\")\n",
    "        continue\n",
    "    for image_name in os.listdir(folder):\n",
    "        "
   ]
  }
 ],
 "metadata": {
  "language_info": {
   "name": "python"
  }
 },
 "nbformat": 4,
 "nbformat_minor": 5
}
